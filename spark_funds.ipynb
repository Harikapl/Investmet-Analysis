{
 "cells": [
  {
   "cell_type": "code",
   "execution_count": 1,
   "metadata": {},
   "outputs": [],
   "source": [
    "import pandas as pd\n",
    "import pandas_profiling\n",
    "import numpy as np\n",
    "from geonamescache.mappers import country\n",
    "import re\n",
    "import matplotlib.pyplot as plt"
   ]
  },
  {
   "cell_type": "code",
   "execution_count": 2,
   "metadata": {},
   "outputs": [],
   "source": [
    "##Company details\n",
    "companies = pd.read_csv('https://cdn.upgrad.com/UpGrad/temp/d934844e-5182-4b58-b896-4ba2a499aa57/companies.txt', sep='\\t',  encoding = 'ANSI')\n",
    "\n",
    "##Funding round details\n",
    "rounds2 = pd.read_csv('file:///C:/Users/Harika/Documents/ML & AI/rounds2.csv',  encoding = 'ANSI')\n",
    "\n",
    "##Sector Classification\n",
    "Sector_mapping = pd.read_csv('file:///C:/Users/Harika/Documents/ML & AI/mapping.csv',  encoding = 'ANSI')"
   ]
  },
  {
   "cell_type": "code",
   "execution_count": 3,
   "metadata": {},
   "outputs": [],
   "source": [
    "##Converting to letters to lower case and removing unwanted text from permalink column\n",
    "companies['permalink'] = companies['permalink'].apply(lambda x: \" \".join(x.lower() for x in x.split()))"
   ]
  },
  {
   "cell_type": "code",
   "execution_count": 4,
   "metadata": {},
   "outputs": [
    {
     "data": {
      "text/plain": [
       "66368"
      ]
     },
     "execution_count": 4,
     "metadata": {},
     "output_type": "execute_result"
    }
   ],
   "source": [
    "##Calculating no. of unique companies \n",
    "companies['permalink'].nunique()"
   ]
  },
  {
   "cell_type": "code",
   "execution_count": 5,
   "metadata": {},
   "outputs": [],
   "source": [
    "##unique companies in rounds2\n",
    "#converting to lowercase letters\n",
    "rounds2['company_permalink'] = rounds2['company_permalink'].apply(lambda x: \" \".join(x.lower() for x in x.split()))"
   ]
  },
  {
   "cell_type": "code",
   "execution_count": 6,
   "metadata": {},
   "outputs": [
    {
     "data": {
      "text/plain": [
       "66368"
      ]
     },
     "execution_count": 6,
     "metadata": {},
     "output_type": "execute_result"
    }
   ],
   "source": [
    "##Calculating no. of unique companies \n",
    "rounds2['company_permalink'].nunique()"
   ]
  },
  {
   "cell_type": "code",
   "execution_count": 7,
   "metadata": {},
   "outputs": [],
   "source": [
    "##merging rounds2 & companies dataframes to create master_frame\n",
    "master_frame = pd.merge(rounds2,companies,how='inner',left_on ='company_permalink', right_on = 'permalink')"
   ]
  },
  {
   "cell_type": "code",
   "execution_count": 8,
   "metadata": {},
   "outputs": [
    {
     "name": "stdout",
     "output_type": "stream",
     "text": [
      "<class 'pandas.core.frame.DataFrame'>\n",
      "Int64Index: 114949 entries, 0 to 114948\n",
      "Data columns (total 16 columns):\n",
      "company_permalink          114949 non-null object\n",
      "funding_round_permalink    114949 non-null object\n",
      "funding_round_type         114949 non-null object\n",
      "funding_round_code         31140 non-null object\n",
      "funded_at                  114949 non-null object\n",
      "raised_amount_usd          94959 non-null float64\n",
      "permalink                  114949 non-null object\n",
      "name                       114948 non-null object\n",
      "homepage_url               108815 non-null object\n",
      "category_list              111539 non-null object\n",
      "status                     114949 non-null object\n",
      "country_code               106271 non-null object\n",
      "state_code                 104003 non-null object\n",
      "region                     104782 non-null object\n",
      "city                       104785 non-null object\n",
      "founded_at                 94428 non-null object\n",
      "dtypes: float64(1), object(15)\n",
      "memory usage: 14.9+ MB\n"
     ]
    }
   ],
   "source": [
    "master_frame.info()"
   ]
  },
  {
   "cell_type": "code",
   "execution_count": 9,
   "metadata": {},
   "outputs": [],
   "source": [
    "# removing redundant columns\n",
    "master_frame =  master_frame.drop(['company_permalink'], axis=1) "
   ]
  },
  {
   "cell_type": "code",
   "execution_count": 10,
   "metadata": {},
   "outputs": [
    {
     "name": "stdout",
     "output_type": "stream",
     "text": [
      "funding_round_permalink     0.000000\n",
      "funding_round_type          0.000000\n",
      "funding_round_code         72.909725\n",
      "funded_at                   0.000000\n",
      "raised_amount_usd          17.390321\n",
      "permalink                   0.000000\n",
      "name                        0.000870\n",
      "homepage_url                5.336280\n",
      "category_list               2.966533\n",
      "status                      0.000000\n",
      "country_code                7.549435\n",
      "state_code                  9.522484\n",
      "region                      8.844792\n",
      "city                        8.842182\n",
      "founded_at                 17.852265\n",
      "dtype: float64\n"
     ]
    }
   ],
   "source": [
    "##Checking the percentage of missing values in each column\n",
    "percent_missing = ((master_frame.isnull() | master_frame.isna()).sum() * 100 / master_frame.index.size)\n",
    "print(percent_missing)"
   ]
  },
  {
   "cell_type": "code",
   "execution_count": 11,
   "metadata": {},
   "outputs": [
    {
     "data": {
      "text/html": [
       "<div>\n",
       "<style scoped>\n",
       "    .dataframe tbody tr th:only-of-type {\n",
       "        vertical-align: middle;\n",
       "    }\n",
       "\n",
       "    .dataframe tbody tr th {\n",
       "        vertical-align: top;\n",
       "    }\n",
       "\n",
       "    .dataframe thead th {\n",
       "        text-align: right;\n",
       "    }\n",
       "</style>\n",
       "<table border=\"1\" class=\"dataframe\">\n",
       "  <thead>\n",
       "    <tr style=\"text-align: right;\">\n",
       "      <th></th>\n",
       "      <th>funding_round_permalink</th>\n",
       "      <th>funding_round_type</th>\n",
       "      <th>funded_at</th>\n",
       "      <th>raised_amount_usd</th>\n",
       "      <th>permalink</th>\n",
       "      <th>name</th>\n",
       "      <th>category_list</th>\n",
       "      <th>status</th>\n",
       "      <th>country_code</th>\n",
       "    </tr>\n",
       "  </thead>\n",
       "  <tbody>\n",
       "    <tr>\n",
       "      <th>0</th>\n",
       "      <td>/funding-round/9a01d05418af9f794eebff7ace91f638</td>\n",
       "      <td>venture</td>\n",
       "      <td>05-01-2015</td>\n",
       "      <td>10000000.0</td>\n",
       "      <td>/organization/-fame</td>\n",
       "      <td>#fame</td>\n",
       "      <td>Media</td>\n",
       "      <td>operating</td>\n",
       "      <td>IND</td>\n",
       "    </tr>\n",
       "    <tr>\n",
       "      <th>1</th>\n",
       "      <td>/funding-round/22dacff496eb7acb2b901dec1dfe5633</td>\n",
       "      <td>venture</td>\n",
       "      <td>14-10-2014</td>\n",
       "      <td>NaN</td>\n",
       "      <td>/organization/-qounter</td>\n",
       "      <td>:Qounter</td>\n",
       "      <td>Application Platforms|Real Time|Social Network...</td>\n",
       "      <td>operating</td>\n",
       "      <td>USA</td>\n",
       "    </tr>\n",
       "    <tr>\n",
       "      <th>2</th>\n",
       "      <td>/funding-round/b44fbb94153f6cdef13083530bb48030</td>\n",
       "      <td>seed</td>\n",
       "      <td>01-03-2014</td>\n",
       "      <td>700000.0</td>\n",
       "      <td>/organization/-qounter</td>\n",
       "      <td>:Qounter</td>\n",
       "      <td>Application Platforms|Real Time|Social Network...</td>\n",
       "      <td>operating</td>\n",
       "      <td>USA</td>\n",
       "    </tr>\n",
       "    <tr>\n",
       "      <th>3</th>\n",
       "      <td>/funding-round/650b8f704416801069bb178a1418776b</td>\n",
       "      <td>venture</td>\n",
       "      <td>30-01-2014</td>\n",
       "      <td>3406878.0</td>\n",
       "      <td>/organization/-the-one-of-them-inc-</td>\n",
       "      <td>(THE) ONE of THEM,Inc.</td>\n",
       "      <td>Apps|Games|Mobile</td>\n",
       "      <td>operating</td>\n",
       "      <td>NaN</td>\n",
       "    </tr>\n",
       "    <tr>\n",
       "      <th>4</th>\n",
       "      <td>/funding-round/5727accaeaa57461bd22a9bdd945382d</td>\n",
       "      <td>venture</td>\n",
       "      <td>19-03-2008</td>\n",
       "      <td>2000000.0</td>\n",
       "      <td>/organization/0-6-com</td>\n",
       "      <td>0-6.com</td>\n",
       "      <td>Curated Web</td>\n",
       "      <td>operating</td>\n",
       "      <td>CHN</td>\n",
       "    </tr>\n",
       "  </tbody>\n",
       "</table>\n",
       "</div>"
      ],
      "text/plain": [
       "                           funding_round_permalink funding_round_type  \\\n",
       "0  /funding-round/9a01d05418af9f794eebff7ace91f638            venture   \n",
       "1  /funding-round/22dacff496eb7acb2b901dec1dfe5633            venture   \n",
       "2  /funding-round/b44fbb94153f6cdef13083530bb48030               seed   \n",
       "3  /funding-round/650b8f704416801069bb178a1418776b            venture   \n",
       "4  /funding-round/5727accaeaa57461bd22a9bdd945382d            venture   \n",
       "\n",
       "    funded_at  raised_amount_usd                            permalink  \\\n",
       "0  05-01-2015         10000000.0                  /organization/-fame   \n",
       "1  14-10-2014                NaN               /organization/-qounter   \n",
       "2  01-03-2014           700000.0               /organization/-qounter   \n",
       "3  30-01-2014          3406878.0  /organization/-the-one-of-them-inc-   \n",
       "4  19-03-2008          2000000.0                /organization/0-6-com   \n",
       "\n",
       "                     name                                      category_list  \\\n",
       "0                   #fame                                              Media   \n",
       "1                :Qounter  Application Platforms|Real Time|Social Network...   \n",
       "2                :Qounter  Application Platforms|Real Time|Social Network...   \n",
       "3  (THE) ONE of THEM,Inc.                                  Apps|Games|Mobile   \n",
       "4                 0-6.com                                        Curated Web   \n",
       "\n",
       "      status country_code  \n",
       "0  operating          IND  \n",
       "1  operating          USA  \n",
       "2  operating          USA  \n",
       "3  operating          NaN  \n",
       "4  operating          CHN  "
      ]
     },
     "execution_count": 11,
     "metadata": {},
     "output_type": "execute_result"
    }
   ],
   "source": [
    "##Removing columns that are not used for analysis having higher percentage of missing values to avoid high data loss\n",
    "master_frame = master_frame.drop(['funding_round_code', 'homepage_url', 'state_code', 'region', 'city', 'founded_at'], axis=1)\n",
    "master_frame.head()"
   ]
  },
  {
   "cell_type": "code",
   "execution_count": 12,
   "metadata": {},
   "outputs": [
    {
     "name": "stdout",
     "output_type": "stream",
     "text": [
      "funding_round_permalink     0.000000\n",
      "funding_round_type          0.000000\n",
      "funded_at                   0.000000\n",
      "raised_amount_usd          17.390321\n",
      "permalink                   0.000000\n",
      "name                        0.000870\n",
      "category_list               2.966533\n",
      "status                      0.000000\n",
      "country_code                7.549435\n",
      "dtype: float64\n"
     ]
    }
   ],
   "source": [
    "##Checking the percentage of missing values in each column\n",
    "percent_missing = ((master_frame.isnull() | master_frame.isna()).sum() * 100 / master_frame.index.size)\n",
    "print(percent_missing)"
   ]
  },
  {
   "cell_type": "code",
   "execution_count": 13,
   "metadata": {},
   "outputs": [],
   "source": [
    "##removing missing values\n",
    "master_frame.dropna(inplace = True)"
   ]
  },
  {
   "cell_type": "code",
   "execution_count": 14,
   "metadata": {},
   "outputs": [],
   "source": [
    "##Subsetting the data in master_frame with selected fund types and funding amount between 5M & 15M\n",
    "fund_type = ['venture','seed', 'angel', 'private_equity']\n",
    "fundingtype_subset = master_frame.loc[master_frame['funding_round_type'].isin(fund_type)]\n"
   ]
  },
  {
   "cell_type": "code",
   "execution_count": 15,
   "metadata": {},
   "outputs": [
    {
     "data": {
      "text/plain": [
       "venture           47809\n",
       "seed              21094\n",
       "angel              4400\n",
       "private_equity     1820\n",
       "Name: funding_round_type, dtype: int64"
      ]
     },
     "execution_count": 15,
     "metadata": {},
     "output_type": "execute_result"
    }
   ],
   "source": [
    "fundingtype_subset['funding_round_type'].value_counts()"
   ]
  },
  {
   "cell_type": "code",
   "execution_count": 16,
   "metadata": {},
   "outputs": [
    {
     "data": {
      "text/html": [
       "<div>\n",
       "<style scoped>\n",
       "    .dataframe tbody tr th:only-of-type {\n",
       "        vertical-align: middle;\n",
       "    }\n",
       "\n",
       "    .dataframe tbody tr th {\n",
       "        vertical-align: top;\n",
       "    }\n",
       "\n",
       "    .dataframe thead th {\n",
       "        text-align: right;\n",
       "    }\n",
       "</style>\n",
       "<table border=\"1\" class=\"dataframe\">\n",
       "  <thead>\n",
       "    <tr style=\"text-align: right;\">\n",
       "      <th></th>\n",
       "      <th>raised_amount_usd</th>\n",
       "    </tr>\n",
       "    <tr>\n",
       "      <th>funding_round_type</th>\n",
       "      <th></th>\n",
       "    </tr>\n",
       "  </thead>\n",
       "  <tbody>\n",
       "    <tr>\n",
       "      <th>angel</th>\n",
       "      <td>1.0</td>\n",
       "    </tr>\n",
       "    <tr>\n",
       "      <th>private_equity</th>\n",
       "      <td>74.0</td>\n",
       "    </tr>\n",
       "    <tr>\n",
       "      <th>seed</th>\n",
       "      <td>1.0</td>\n",
       "    </tr>\n",
       "    <tr>\n",
       "      <th>venture</th>\n",
       "      <td>12.0</td>\n",
       "    </tr>\n",
       "  </tbody>\n",
       "</table>\n",
       "</div>"
      ],
      "text/plain": [
       "                    raised_amount_usd\n",
       "funding_round_type                   \n",
       "angel                             1.0\n",
       "private_equity                   74.0\n",
       "seed                              1.0\n",
       "venture                          12.0"
      ]
     },
     "execution_count": 16,
     "metadata": {},
     "output_type": "execute_result"
    }
   ],
   "source": [
    "##checking the amount millions\n",
    "round(((fundingtype_subset.groupby(['funding_round_type']).mean()))/1000000 )"
   ]
  },
  {
   "cell_type": "code",
   "execution_count": 17,
   "metadata": {},
   "outputs": [],
   "source": [
    "fundingtype_subset = fundingtype_subset.loc[(5000000 <= fundingtype_subset['raised_amount_usd']) & (fundingtype_subset['raised_amount_usd']>= 15000000)] "
   ]
  },
  {
   "cell_type": "code",
   "execution_count": 18,
   "metadata": {},
   "outputs": [],
   "source": [
    "##subsetting the data with only venture fund type\n",
    "venture_data = fundingtype_subset.loc[fundingtype_subset['funding_round_type'] == 'venture'] "
   ]
  },
  {
   "cell_type": "code",
   "execution_count": 19,
   "metadata": {},
   "outputs": [
    {
     "name": "stdout",
     "output_type": "stream",
     "text": [
      "<class 'pandas.core.frame.DataFrame'>\n",
      "Int64Index: 9904 entries, 10 to 114915\n",
      "Data columns (total 9 columns):\n",
      "funding_round_permalink    9904 non-null object\n",
      "funding_round_type         9904 non-null object\n",
      "funded_at                  9904 non-null object\n",
      "raised_amount_usd          9904 non-null float64\n",
      "permalink                  9904 non-null object\n",
      "name                       9904 non-null object\n",
      "category_list              9904 non-null object\n",
      "status                     9904 non-null object\n",
      "country_code               9904 non-null object\n",
      "dtypes: float64(1), object(8)\n",
      "memory usage: 773.8+ KB\n"
     ]
    }
   ],
   "source": [
    "venture_data.info()"
   ]
  },
  {
   "cell_type": "code",
   "execution_count": 20,
   "metadata": {},
   "outputs": [
    {
     "data": {
      "text/html": [
       "<div>\n",
       "<style scoped>\n",
       "    .dataframe tbody tr th:only-of-type {\n",
       "        vertical-align: middle;\n",
       "    }\n",
       "\n",
       "    .dataframe tbody tr th {\n",
       "        vertical-align: top;\n",
       "    }\n",
       "\n",
       "    .dataframe thead th {\n",
       "        text-align: right;\n",
       "    }\n",
       "</style>\n",
       "<table border=\"1\" class=\"dataframe\">\n",
       "  <thead>\n",
       "    <tr style=\"text-align: right;\">\n",
       "      <th></th>\n",
       "      <th>raised_amount_usd</th>\n",
       "    </tr>\n",
       "    <tr>\n",
       "      <th>country_code</th>\n",
       "      <th></th>\n",
       "    </tr>\n",
       "  </thead>\n",
       "  <tbody>\n",
       "    <tr>\n",
       "      <th>USA</th>\n",
       "      <td>2.942478e+11</td>\n",
       "    </tr>\n",
       "    <tr>\n",
       "      <th>CHN</th>\n",
       "      <td>3.412214e+10</td>\n",
       "    </tr>\n",
       "    <tr>\n",
       "      <th>GBR</th>\n",
       "      <td>1.286483e+10</td>\n",
       "    </tr>\n",
       "    <tr>\n",
       "      <th>IND</th>\n",
       "      <td>1.120455e+10</td>\n",
       "    </tr>\n",
       "    <tr>\n",
       "      <th>CAN</th>\n",
       "      <td>4.976888e+09</td>\n",
       "    </tr>\n",
       "    <tr>\n",
       "      <th>DEU</th>\n",
       "      <td>4.119932e+09</td>\n",
       "    </tr>\n",
       "    <tr>\n",
       "      <th>FRA</th>\n",
       "      <td>3.885315e+09</td>\n",
       "    </tr>\n",
       "    <tr>\n",
       "      <th>ISR</th>\n",
       "      <td>3.558756e+09</td>\n",
       "    </tr>\n",
       "    <tr>\n",
       "      <th>SWE</th>\n",
       "      <td>2.279095e+09</td>\n",
       "    </tr>\n",
       "  </tbody>\n",
       "</table>\n",
       "</div>"
      ],
      "text/plain": [
       "              raised_amount_usd\n",
       "country_code                   \n",
       "USA                2.942478e+11\n",
       "CHN                3.412214e+10\n",
       "GBR                1.286483e+10\n",
       "IND                1.120455e+10\n",
       "CAN                4.976888e+09\n",
       "DEU                4.119932e+09\n",
       "FRA                3.885315e+09\n",
       "ISR                3.558756e+09\n",
       "SWE                2.279095e+09"
      ]
     },
     "execution_count": 20,
     "metadata": {},
     "output_type": "execute_result"
    }
   ],
   "source": [
    "##extracting the top 9 countries\n",
    "country_grps = venture_data.pivot_table(values=['raised_amount_usd'], index=['country_code'], aggfunc=np.sum)\n",
    "data_sorted = round(country_grps.sort_values(['raised_amount_usd'], ascending=False))\n",
    "round(data_sorted.head(9))"
   ]
  },
  {
   "cell_type": "code",
   "execution_count": 21,
   "metadata": {},
   "outputs": [
    {
     "data": {
      "text/html": [
       "<div>\n",
       "<style scoped>\n",
       "    .dataframe tbody tr th:only-of-type {\n",
       "        vertical-align: middle;\n",
       "    }\n",
       "\n",
       "    .dataframe tbody tr th {\n",
       "        vertical-align: top;\n",
       "    }\n",
       "\n",
       "    .dataframe thead th {\n",
       "        text-align: right;\n",
       "    }\n",
       "</style>\n",
       "<table border=\"1\" class=\"dataframe\">\n",
       "  <thead>\n",
       "    <tr style=\"text-align: right;\">\n",
       "      <th></th>\n",
       "      <th>funding_round_permalink</th>\n",
       "      <th>funding_round_type</th>\n",
       "      <th>funded_at</th>\n",
       "      <th>raised_amount_usd</th>\n",
       "      <th>permalink</th>\n",
       "      <th>name</th>\n",
       "      <th>category_list</th>\n",
       "      <th>status</th>\n",
       "      <th>country_code</th>\n",
       "    </tr>\n",
       "  </thead>\n",
       "  <tbody>\n",
       "    <tr>\n",
       "      <th>10</th>\n",
       "      <td>/funding-round/3bb2ee4a2d89251a10aaa735b1180e44</td>\n",
       "      <td>venture</td>\n",
       "      <td>09-11-2015</td>\n",
       "      <td>20000000.0</td>\n",
       "      <td>/organization/0xdata</td>\n",
       "      <td>H2O.ai</td>\n",
       "      <td>Analytics</td>\n",
       "      <td>operating</td>\n",
       "      <td>USA</td>\n",
       "    </tr>\n",
       "    <tr>\n",
       "      <th>62</th>\n",
       "      <td>/funding-round/482fbf992b48f5c47d0080ab7ec0cb54</td>\n",
       "      <td>venture</td>\n",
       "      <td>08-03-2010</td>\n",
       "      <td>35000000.0</td>\n",
       "      <td>/organization/1010data</td>\n",
       "      <td>1010data</td>\n",
       "      <td>Software</td>\n",
       "      <td>acquired</td>\n",
       "      <td>USA</td>\n",
       "    </tr>\n",
       "    <tr>\n",
       "      <th>73</th>\n",
       "      <td>/funding-round/563923487783bdeb5d0b7872f3d6b99a</td>\n",
       "      <td>venture</td>\n",
       "      <td>12-01-2015</td>\n",
       "      <td>55000000.0</td>\n",
       "      <td>/organization/10x-genomics</td>\n",
       "      <td>10X Genomics</td>\n",
       "      <td>Biotechnology|Technology</td>\n",
       "      <td>operating</td>\n",
       "      <td>USA</td>\n",
       "    </tr>\n",
       "    <tr>\n",
       "      <th>80</th>\n",
       "      <td>/funding-round/bbbda407fa8638d944ecfdd042230c4b</td>\n",
       "      <td>venture</td>\n",
       "      <td>28-04-2014</td>\n",
       "      <td>20000000.0</td>\n",
       "      <td>/organization/117go</td>\n",
       "      <td>117go</td>\n",
       "      <td>Social Travel</td>\n",
       "      <td>operating</td>\n",
       "      <td>CHN</td>\n",
       "    </tr>\n",
       "    <tr>\n",
       "      <th>110</th>\n",
       "      <td>/funding-round/424129ce1235cfab2655ee81305f7c2b</td>\n",
       "      <td>venture</td>\n",
       "      <td>15-10-2013</td>\n",
       "      <td>15000000.0</td>\n",
       "      <td>/organization/1366-technologies</td>\n",
       "      <td>1366 Technologies</td>\n",
       "      <td>Manufacturing</td>\n",
       "      <td>operating</td>\n",
       "      <td>USA</td>\n",
       "    </tr>\n",
       "  </tbody>\n",
       "</table>\n",
       "</div>"
      ],
      "text/plain": [
       "                             funding_round_permalink funding_round_type  \\\n",
       "10   /funding-round/3bb2ee4a2d89251a10aaa735b1180e44            venture   \n",
       "62   /funding-round/482fbf992b48f5c47d0080ab7ec0cb54            venture   \n",
       "73   /funding-round/563923487783bdeb5d0b7872f3d6b99a            venture   \n",
       "80   /funding-round/bbbda407fa8638d944ecfdd042230c4b            venture   \n",
       "110  /funding-round/424129ce1235cfab2655ee81305f7c2b            venture   \n",
       "\n",
       "      funded_at  raised_amount_usd                        permalink  \\\n",
       "10   09-11-2015         20000000.0             /organization/0xdata   \n",
       "62   08-03-2010         35000000.0           /organization/1010data   \n",
       "73   12-01-2015         55000000.0       /organization/10x-genomics   \n",
       "80   28-04-2014         20000000.0              /organization/117go   \n",
       "110  15-10-2013         15000000.0  /organization/1366-technologies   \n",
       "\n",
       "                  name             category_list     status country_code  \n",
       "10              H2O.ai                 Analytics  operating          USA  \n",
       "62            1010data                  Software   acquired          USA  \n",
       "73        10X Genomics  Biotechnology|Technology  operating          USA  \n",
       "80               117go             Social Travel  operating          CHN  \n",
       "110  1366 Technologies             Manufacturing  operating          USA  "
      ]
     },
     "execution_count": 21,
     "metadata": {},
     "output_type": "execute_result"
    }
   ],
   "source": [
    "##Creating the dataframe with top 9 countries\n",
    "top9 = venture_data.loc[venture_data['country_code'].isin (['USA', 'CHN', 'GBR', 'IND', 'CAN', 'FRA', 'ISR', 'DEU', 'SWE'])]\n",
    "top9.head()"
   ]
  },
  {
   "cell_type": "code",
   "execution_count": 22,
   "metadata": {},
   "outputs": [],
   "source": [
    "##dataframe of countries with english as official language\n",
    "english_countries = pd.read_csv('file:///C:/Users/Harika/Documents/ML & AI/list_of_english-speaking_countries_in_the_world-2177j_1.csv', encoding = 'ANSI')"
   ]
  },
  {
   "cell_type": "code",
   "execution_count": 23,
   "metadata": {},
   "outputs": [
    {
     "data": {
      "text/html": [
       "<div>\n",
       "<style scoped>\n",
       "    .dataframe tbody tr th:only-of-type {\n",
       "        vertical-align: middle;\n",
       "    }\n",
       "\n",
       "    .dataframe tbody tr th {\n",
       "        vertical-align: top;\n",
       "    }\n",
       "\n",
       "    .dataframe thead th {\n",
       "        text-align: right;\n",
       "    }\n",
       "</style>\n",
       "<table border=\"1\" class=\"dataframe\">\n",
       "  <thead>\n",
       "    <tr style=\"text-align: right;\">\n",
       "      <th></th>\n",
       "      <th>Country</th>\n",
       "      <th>Population</th>\n",
       "      <th>Status Of English As A Language</th>\n",
       "      <th>country_code</th>\n",
       "    </tr>\n",
       "  </thead>\n",
       "  <tbody>\n",
       "    <tr>\n",
       "      <th>0</th>\n",
       "      <td>India</td>\n",
       "      <td>1247540000</td>\n",
       "      <td>de jure official language</td>\n",
       "      <td>IND</td>\n",
       "    </tr>\n",
       "    <tr>\n",
       "      <th>1</th>\n",
       "      <td>United States</td>\n",
       "      <td>318224000</td>\n",
       "      <td>de facto official language</td>\n",
       "      <td>USA</td>\n",
       "    </tr>\n",
       "    <tr>\n",
       "      <th>2</th>\n",
       "      <td>United Kingdom</td>\n",
       "      <td>63705000</td>\n",
       "      <td>de facto official language</td>\n",
       "      <td>GBR</td>\n",
       "    </tr>\n",
       "    <tr>\n",
       "      <th>3</th>\n",
       "      <td>Nigeria</td>\n",
       "      <td>218093000</td>\n",
       "      <td>de jure official language</td>\n",
       "      <td>NGA</td>\n",
       "    </tr>\n",
       "    <tr>\n",
       "      <th>4</th>\n",
       "      <td>Pakistan</td>\n",
       "      <td>165449000</td>\n",
       "      <td>de jure official language</td>\n",
       "      <td>PAK</td>\n",
       "    </tr>\n",
       "  </tbody>\n",
       "</table>\n",
       "</div>"
      ],
      "text/plain": [
       "          Country  Population Status Of English As A Language country_code\n",
       "0           India  1247540000       de jure official language          IND\n",
       "1   United States   318224000      de facto official language          USA\n",
       "2  United Kingdom    63705000      de facto official language          GBR\n",
       "3         Nigeria   218093000       de jure official language          NGA\n",
       "4        Pakistan   165449000       de jure official language          PAK"
      ]
     },
     "execution_count": 23,
     "metadata": {},
     "output_type": "execute_result"
    }
   ],
   "source": [
    "##mapping the countries in english_countries dataframe to iso3 codes\n",
    "mapper = country(from_key='name', to_key='iso3')\n",
    "english_countries['country_code'] = english_countries['Country'].apply(lambda x: mapper(x))\n",
    "english_countries.head()"
   ]
  },
  {
   "cell_type": "markdown",
   "metadata": {},
   "source": [
    "Among the top 9 countries, USA, GBR and IND are the top three English speaking countries."
   ]
  },
  {
   "cell_type": "code",
   "execution_count": 25,
   "metadata": {},
   "outputs": [],
   "source": [
    "##mapping the sector\n",
    "mapping = pd.melt(Sector_mapping, id_vars=['category_list'], value_vars=['Automotive & Sports', 'Cleantech / Semiconductors', 'Entertainment', 'Health', 'Manufacturing', 'News, Search and Messaging', 'Others', 'Social, Finance, Analytics, Advertising'])"
   ]
  },
  {
   "cell_type": "code",
   "execution_count": 26,
   "metadata": {},
   "outputs": [],
   "source": [
    "mapping = mapping.drop(mapping[['value']], axis = 1)"
   ]
  },
  {
   "cell_type": "code",
   "execution_count": 27,
   "metadata": {},
   "outputs": [],
   "source": [
    "##merging fundingtype_subset with mapping\n",
    "fundingtype_subset = fundingtype_subset.merge(mapping, on='category_list', how='left')\n",
    "fundingtype_subset = fundingtype_subset.rename({'variable': 'main_sector'}, axis = 1)"
   ]
  },
  {
   "cell_type": "code",
   "execution_count": 28,
   "metadata": {},
   "outputs": [],
   "source": [
    "##Deriving the primary sector\n",
    "fundingtype_subset['primary_sector'] = fundingtype_subset['category_list'].apply(lambda x: x.split('|')[0])"
   ]
  },
  {
   "cell_type": "code",
   "execution_count": 30,
   "metadata": {},
   "outputs": [],
   "source": [
    "D1 = fundingtype_subset.loc[(fundingtype_subset['country_code'] == 'USA')] "
   ]
  },
  {
   "cell_type": "code",
   "execution_count": 31,
   "metadata": {
    "scrolled": true
   },
   "outputs": [
    {
     "name": "stdout",
     "output_type": "stream",
     "text": [
      "36115\n",
      "1506283919551.0\n"
     ]
    }
   ],
   "source": [
    "print(D1.raised_amount_usd.count())\n",
    "print(D1.raised_amount_usd.sum())"
   ]
  },
  {
   "cell_type": "code",
   "execution_count": 32,
   "metadata": {},
   "outputs": [],
   "source": [
    "D2 = fundingtype_subset.loc[(fundingtype_subset['country_code'] == 'IND')] "
   ]
  },
  {
   "cell_type": "code",
   "execution_count": 33,
   "metadata": {},
   "outputs": [
    {
     "name": "stdout",
     "output_type": "stream",
     "text": [
      "1219\n",
      "73848555183.0\n"
     ]
    }
   ],
   "source": [
    "print(D2.raised_amount_usd.count())\n",
    "print(D2.raised_amount_usd.sum())"
   ]
  },
  {
   "cell_type": "code",
   "execution_count": 34,
   "metadata": {},
   "outputs": [],
   "source": [
    "D3 = fundingtype_subset.loc[(fundingtype_subset['country_code'] == 'GBR')]"
   ]
  },
  {
   "cell_type": "code",
   "execution_count": 35,
   "metadata": {},
   "outputs": [
    {
     "name": "stdout",
     "output_type": "stream",
     "text": [
      "1995\n",
      "1359852863.8714285\n"
     ]
    }
   ],
   "source": [
    "print(D3.raised_amount_usd.count())\n",
    "print((D3.raised_amount_usd.sum())/70)"
   ]
  },
  {
   "cell_type": "code",
   "execution_count": 36,
   "metadata": {},
   "outputs": [
    {
     "data": {
      "text/plain": [
       "Biotechnology                    9436\n",
       "Software                         3209\n",
       "Health Care                      2718\n",
       "Clean Technology                 2608\n",
       "Semiconductors                   1667\n",
       "Enterprise Software              1539\n",
       "Hardware + Software              1243\n",
       "Mobile                           1132\n",
       "Web Hosting                       993\n",
       "E-Commerce                        834\n",
       "Advertising                       830\n",
       "Health and Wellness               783\n",
       "Security                          737\n",
       "Manufacturing                     570\n",
       "Games                             509\n",
       "Curated Web                       441\n",
       "Pharmaceuticals                   288\n",
       "Analytics                         286\n",
       "Technology                        273\n",
       "Consulting                        230\n",
       "Hospitality                       200\n",
       "News                              152\n",
       "Real Estate                       145\n",
       "Messaging                         142\n",
       "Public Relations                  138\n",
       "Finance                           133\n",
       "Fashion                           129\n",
       "Cloud Computing                   128\n",
       "Education                         121\n",
       "Public Transportation             114\n",
       "                                 ... \n",
       "Enterprise Purchasing               1\n",
       "Governments                         1\n",
       "Law Enforcement                     1\n",
       "Local Based Services                1\n",
       "Project Management                  1\n",
       "Custom Retail                       1\n",
       "Business Information Systems        1\n",
       "Non Profit                          1\n",
       "Physicians                          1\n",
       "Intellectual Asset Management       1\n",
       "Web Browsers                        1\n",
       "Automated Kiosk                     1\n",
       "Recycling                           1\n",
       "Machine Learning                    1\n",
       "Mobile Payments                     1\n",
       "Local                               1\n",
       "FreetoPlay Gaming                   1\n",
       "Document Management                 1\n",
       "Enterprise 2.0                      1\n",
       "Exercise                            1\n",
       "Recruiting                          1\n",
       "Domains                             1\n",
       "Designers                           1\n",
       "Mobile Analytics                    1\n",
       "Internet Service Providers          1\n",
       "Anything Capital Intensive          1\n",
       "Real Time                           1\n",
       "Collaborative Consumption           1\n",
       "Religion                            1\n",
       "Product Development Services        1\n",
       "Name: primary_sector, Length: 361, dtype: int64"
      ]
     },
     "execution_count": 36,
     "metadata": {},
     "output_type": "execute_result"
    }
   ],
   "source": [
    "D1.primary_sector.value_counts()"
   ]
  },
  {
   "cell_type": "code",
   "execution_count": 40,
   "metadata": {},
   "outputs": [
    {
     "name": "stdout",
     "output_type": "stream",
     "text": [
      "     primary_sector                            permalink  raised_amount_usd\n",
      "1153  Biotechnology  /organization/intarcia-therapeutics       5.824000e+09\n"
     ]
    }
   ],
   "source": [
    "##company which received highest investment from C1 for top sector\n",
    "D1_group = D1.groupby(['primary_sector', 'permalink'])['raised_amount_usd'].sum().reset_index()\n",
    "Biotechnology = D1_group.loc[D1_group['primary_sector'] == 'Biotechnology']\n",
    "print(round(Biotechnology.nlargest(1, 'raised_amount_usd')))"
   ]
  },
  {
   "cell_type": "code",
   "execution_count": 41,
   "metadata": {},
   "outputs": [
    {
     "name": "stdout",
     "output_type": "stream",
     "text": [
      "     primary_sector             permalink  raised_amount_usd\n",
      "5145       Software  /organization/vmware       2.948000e+09\n"
     ]
    }
   ],
   "source": [
    "##company which received highest investment from C1 for second top sector\n",
    "Software = D1_group.loc[D1_group['primary_sector'] == 'Software']\n",
    "print(round(Software.nlargest(1, 'raised_amount_usd')))"
   ]
  },
  {
   "cell_type": "code",
   "execution_count": 37,
   "metadata": {
    "scrolled": true
   },
   "outputs": [
    {
     "data": {
      "text/plain": [
       "E-Commerce                  221\n",
       "Clean Technology             91\n",
       "Real Estate                  88\n",
       "Software                     81\n",
       "Mobile                       72\n",
       "Curated Web                  66\n",
       "Biotechnology                56\n",
       "Web Hosting                  40\n",
       "Automotive                   35\n",
       "Food Processing              33\n",
       "Education                    32\n",
       "Travel                       32\n",
       "Advertising                  27\n",
       "Manufacturing                25\n",
       "Hardware + Software          16\n",
       "Pharmaceuticals              16\n",
       "Security                     16\n",
       "Health Care                  12\n",
       "Finance                      12\n",
       "Apps                         10\n",
       "Cloud Computing               9\n",
       "Games                         9\n",
       "Messaging                     9\n",
       "Consulting                    8\n",
       "Public Transportation         8\n",
       "Gift Card                     8\n",
       "Logistics Company             8\n",
       "Search                        8\n",
       "Interior Design               8\n",
       "Information Technology        8\n",
       "                           ... \n",
       "Consumer Internet             3\n",
       "Computers                     3\n",
       "Consumer Electronics          3\n",
       "Entertainment                 2\n",
       "Consumer Goods                2\n",
       "News                          2\n",
       "Energy                        2\n",
       "Coffee                        2\n",
       "Fashion                       2\n",
       "Financial Services            2\n",
       "Enterprise Software           2\n",
       "Aerospace                     2\n",
       "Bio-Pharm                     2\n",
       "EdTech                        2\n",
       "Services                      1\n",
       "Ad Targeting                  1\n",
       "Credit                        1\n",
       "Cars                          1\n",
       "Transportation                1\n",
       "Resorts                       1\n",
       "Credit Cards                  1\n",
       "Governments                   1\n",
       "Career Planning               1\n",
       "Digital Media                 1\n",
       "App Stores                    1\n",
       "Business Development          1\n",
       "Beauty                        1\n",
       "Brand Marketing               1\n",
       "Local Search                  1\n",
       "Concentrated Solar Power      1\n",
       "Name: primary_sector, Length: 76, dtype: int64"
      ]
     },
     "execution_count": 37,
     "metadata": {},
     "output_type": "execute_result"
    }
   ],
   "source": [
    "D2.primary_sector.value_counts()"
   ]
  },
  {
   "cell_type": "code",
   "execution_count": 42,
   "metadata": {},
   "outputs": [
    {
     "name": "stdout",
     "output_type": "stream",
     "text": [
      "   primary_sector               permalink  raised_amount_usd\n",
      "87     E-Commerce  /organization/snapdeal       1.220560e+10\n"
     ]
    }
   ],
   "source": [
    "##company which received highest investment from C2 for top sector\n",
    "D2_group = D2.groupby(['primary_sector', 'permalink'])['raised_amount_usd'].sum().reset_index()\n",
    "ecommerce = D2_group.loc[D2_group['primary_sector'] == 'E-Commerce']\n",
    "print(round(ecommerce.nlargest(1, 'raised_amount_usd')))"
   ]
  },
  {
   "cell_type": "code",
   "execution_count": 43,
   "metadata": {},
   "outputs": [
    {
     "name": "stdout",
     "output_type": "stream",
     "text": [
      "      primary_sector                  permalink  raised_amount_usd\n",
      "42  Clean Technology  /organization/renew-power       4.320000e+09\n"
     ]
    }
   ],
   "source": [
    "##company which received highest investment from C2 for second top sector\n",
    "Clean_Technology = D2_group.loc[D2_group['primary_sector'] == 'Clean Technology']\n",
    "print(round(Clean_Technology.nlargest(1, 'raised_amount_usd')))"
   ]
  },
  {
   "cell_type": "code",
   "execution_count": 38,
   "metadata": {},
   "outputs": [
    {
     "data": {
      "text/plain": [
       "Biotechnology              497\n",
       "Software                   185\n",
       "Clean Technology           152\n",
       "Mobile                     144\n",
       "E-Commerce                  76\n",
       "Hardware + Software         73\n",
       "Enterprise Software         58\n",
       "Semiconductors              57\n",
       "Consulting                  56\n",
       "Manufacturing               56\n",
       "Web Hosting                 48\n",
       "Curated Web                 44\n",
       "Advertising                 38\n",
       "Games                       26\n",
       "Technology                  26\n",
       "Food Processing             24\n",
       "Security                    24\n",
       "Messaging                   24\n",
       "Health Care                 20\n",
       "Internet                    18\n",
       "Telecommunications          18\n",
       "Finance                     17\n",
       "P2P Money Transfer          16\n",
       "Travel                      16\n",
       "Music                       16\n",
       "Pharmaceuticals             16\n",
       "Therapeutics                16\n",
       "Network Security            16\n",
       "Apps                        12\n",
       "Fashion                      9\n",
       "                          ... \n",
       "Bitcoin                      1\n",
       "Service Providers            1\n",
       "Databases                    1\n",
       "Banking                      1\n",
       "Commercial Real Estate       1\n",
       "Musicians                    1\n",
       "Location Based Services      1\n",
       "Document Management          1\n",
       "News                         1\n",
       "Developer APIs               1\n",
       "iPhone                       1\n",
       "Ediscovery                   1\n",
       "Distribution                 1\n",
       "Insurance                    1\n",
       "Career Planning              1\n",
       "Chemicals                    1\n",
       "Healthcare Services          1\n",
       "Credit Cards                 1\n",
       "Racing                       1\n",
       "Diabetes                     1\n",
       "Clinical Trials              1\n",
       "Big Data Analytics           1\n",
       "Hardware                     1\n",
       "Consumer Goods               1\n",
       "Human Resources              1\n",
       "Concerts                     1\n",
       "Electronics                  1\n",
       "Peer-to-Peer                 1\n",
       "App Marketing                1\n",
       "Online Travel                1\n",
       "Name: primary_sector, Length: 94, dtype: int64"
      ]
     },
     "execution_count": 38,
     "metadata": {},
     "output_type": "execute_result"
    }
   ],
   "source": [
    "D3.primary_sector.value_counts()"
   ]
  },
  {
   "cell_type": "code",
   "execution_count": 44,
   "metadata": {},
   "outputs": [
    {
     "name": "stdout",
     "output_type": "stream",
     "text": [
      "   primary_sector                permalink  raised_amount_usd\n",
      "44  Biotechnology  /organization/circassia       1.157048e+09\n"
     ]
    }
   ],
   "source": [
    "##company which received highest investment from C3 for top sector\n",
    "D3_group = D3.groupby(['primary_sector', 'permalink'])['raised_amount_usd'].sum().reset_index()\n",
    "Biotechnology = D3_group.loc[D3_group['primary_sector'] == 'Biotechnology']\n",
    "print(round(Biotechnology.nlargest(1, 'raised_amount_usd')))"
   ]
  },
  {
   "cell_type": "code",
   "execution_count": 45,
   "metadata": {},
   "outputs": [
    {
     "name": "stdout",
     "output_type": "stream",
     "text": [
      "    primary_sector               permalink  raised_amount_usd\n",
      "277       Software  /organization/picochip        836000000.0\n"
     ]
    }
   ],
   "source": [
    "##company which received highest investment from C3 for second top sector\n",
    "Software = D3_group.loc[D3_group['primary_sector'] == 'Software']\n",
    "print(round(Software.nlargest(1, 'raised_amount_usd')))"
   ]
  },
  {
   "cell_type": "code",
   "execution_count": 46,
   "metadata": {},
   "outputs": [
    {
     "data": {
      "text/html": [
       "<div>\n",
       "<style scoped>\n",
       "    .dataframe tbody tr th:only-of-type {\n",
       "        vertical-align: middle;\n",
       "    }\n",
       "\n",
       "    .dataframe tbody tr th {\n",
       "        vertical-align: top;\n",
       "    }\n",
       "\n",
       "    .dataframe thead th {\n",
       "        text-align: right;\n",
       "    }\n",
       "</style>\n",
       "<table border=\"1\" class=\"dataframe\">\n",
       "  <thead>\n",
       "    <tr style=\"text-align: right;\">\n",
       "      <th></th>\n",
       "      <th>funding_round_permalink</th>\n",
       "      <th>funding_round_type</th>\n",
       "      <th>funded_at</th>\n",
       "      <th>raised_amount_usd</th>\n",
       "      <th>permalink</th>\n",
       "      <th>name</th>\n",
       "      <th>category_list</th>\n",
       "      <th>status</th>\n",
       "      <th>country_code</th>\n",
       "      <th>main_sector</th>\n",
       "      <th>primary_sector</th>\n",
       "      <th>amount_fraction</th>\n",
       "    </tr>\n",
       "  </thead>\n",
       "  <tbody>\n",
       "    <tr>\n",
       "      <th>0</th>\n",
       "      <td>/funding-round/3bb2ee4a2d89251a10aaa735b1180e44</td>\n",
       "      <td>venture</td>\n",
       "      <td>09-11-2015</td>\n",
       "      <td>20000000.0</td>\n",
       "      <td>/organization/0xdata</td>\n",
       "      <td>H2O.ai</td>\n",
       "      <td>Analytics</td>\n",
       "      <td>operating</td>\n",
       "      <td>USA</td>\n",
       "      <td>NaN</td>\n",
       "      <td>Analytics</td>\n",
       "      <td>0.000009</td>\n",
       "    </tr>\n",
       "    <tr>\n",
       "      <th>1</th>\n",
       "      <td>/funding-round/482fbf992b48f5c47d0080ab7ec0cb54</td>\n",
       "      <td>venture</td>\n",
       "      <td>08-03-2010</td>\n",
       "      <td>35000000.0</td>\n",
       "      <td>/organization/1010data</td>\n",
       "      <td>1010data</td>\n",
       "      <td>Software</td>\n",
       "      <td>acquired</td>\n",
       "      <td>USA</td>\n",
       "      <td>Automotive &amp; Sports</td>\n",
       "      <td>Software</td>\n",
       "      <td>0.000016</td>\n",
       "    </tr>\n",
       "    <tr>\n",
       "      <th>2</th>\n",
       "      <td>/funding-round/482fbf992b48f5c47d0080ab7ec0cb54</td>\n",
       "      <td>venture</td>\n",
       "      <td>08-03-2010</td>\n",
       "      <td>35000000.0</td>\n",
       "      <td>/organization/1010data</td>\n",
       "      <td>1010data</td>\n",
       "      <td>Software</td>\n",
       "      <td>acquired</td>\n",
       "      <td>USA</td>\n",
       "      <td>Cleantech / Semiconductors</td>\n",
       "      <td>Software</td>\n",
       "      <td>0.000016</td>\n",
       "    </tr>\n",
       "    <tr>\n",
       "      <th>3</th>\n",
       "      <td>/funding-round/482fbf992b48f5c47d0080ab7ec0cb54</td>\n",
       "      <td>venture</td>\n",
       "      <td>08-03-2010</td>\n",
       "      <td>35000000.0</td>\n",
       "      <td>/organization/1010data</td>\n",
       "      <td>1010data</td>\n",
       "      <td>Software</td>\n",
       "      <td>acquired</td>\n",
       "      <td>USA</td>\n",
       "      <td>Entertainment</td>\n",
       "      <td>Software</td>\n",
       "      <td>0.000016</td>\n",
       "    </tr>\n",
       "    <tr>\n",
       "      <th>4</th>\n",
       "      <td>/funding-round/482fbf992b48f5c47d0080ab7ec0cb54</td>\n",
       "      <td>venture</td>\n",
       "      <td>08-03-2010</td>\n",
       "      <td>35000000.0</td>\n",
       "      <td>/organization/1010data</td>\n",
       "      <td>1010data</td>\n",
       "      <td>Software</td>\n",
       "      <td>acquired</td>\n",
       "      <td>USA</td>\n",
       "      <td>Health</td>\n",
       "      <td>Software</td>\n",
       "      <td>0.000016</td>\n",
       "    </tr>\n",
       "  </tbody>\n",
       "</table>\n",
       "</div>"
      ],
      "text/plain": [
       "                           funding_round_permalink funding_round_type  \\\n",
       "0  /funding-round/3bb2ee4a2d89251a10aaa735b1180e44            venture   \n",
       "1  /funding-round/482fbf992b48f5c47d0080ab7ec0cb54            venture   \n",
       "2  /funding-round/482fbf992b48f5c47d0080ab7ec0cb54            venture   \n",
       "3  /funding-round/482fbf992b48f5c47d0080ab7ec0cb54            venture   \n",
       "4  /funding-round/482fbf992b48f5c47d0080ab7ec0cb54            venture   \n",
       "\n",
       "    funded_at  raised_amount_usd               permalink      name  \\\n",
       "0  09-11-2015         20000000.0    /organization/0xdata    H2O.ai   \n",
       "1  08-03-2010         35000000.0  /organization/1010data  1010data   \n",
       "2  08-03-2010         35000000.0  /organization/1010data  1010data   \n",
       "3  08-03-2010         35000000.0  /organization/1010data  1010data   \n",
       "4  08-03-2010         35000000.0  /organization/1010data  1010data   \n",
       "\n",
       "  category_list     status country_code                 main_sector  \\\n",
       "0     Analytics  operating          USA                         NaN   \n",
       "1      Software   acquired          USA         Automotive & Sports   \n",
       "2      Software   acquired          USA  Cleantech / Semiconductors   \n",
       "3      Software   acquired          USA               Entertainment   \n",
       "4      Software   acquired          USA                      Health   \n",
       "\n",
       "  primary_sector  amount_fraction  \n",
       "0      Analytics         0.000009  \n",
       "1       Software         0.000016  \n",
       "2       Software         0.000016  \n",
       "3       Software         0.000016  \n",
       "4       Software         0.000016  "
      ]
     },
     "execution_count": 46,
     "metadata": {},
     "output_type": "execute_result"
    }
   ],
   "source": [
    "##calculating fraction for plot1\n",
    "fundingtype_subset['amount_fraction'] = fundingtype_subset['raised_amount_usd']/fundingtype_subset['raised_amount_usd'].sum()\n",
    "fundingtype_subset.head()"
   ]
  },
  {
   "cell_type": "code",
   "execution_count": 47,
   "metadata": {},
   "outputs": [
    {
     "data": {
      "image/png": "[encoded data removed]",
      "text/plain": [
       "<Figure size 432x288 with 1 Axes>"
      ]
     },
     "metadata": {
      "needs_background": "light"
     },
     "output_type": "display_data"
    }
   ],
   "source": [
    "##plot showing the the average amount of investment in each funding type \n",
    "plot1 = round(fundingtype_subset.pivot_table(values=['raised_amount_usd'], index=['funding_round_type'], aggfunc=np.mean))\n",
    "plot1.plot(kind='bar')\n",
    "plt.show()"
   ]
  },
  {
   "cell_type": "code",
   "execution_count": 48,
   "metadata": {},
   "outputs": [
    {
     "data": {
      "image/png": "[encoded data removed]",
      "text/plain": [
       "<Figure size 432x288 with 1 Axes>"
      ]
     },
     "metadata": {
      "needs_background": "light"
     },
     "output_type": "display_data"
    }
   ],
   "source": [
    "##plot showing the fraction of total investments (globally) in venture, seed, and private equity\n",
    "plot1_fraction = fundingtype_subset.pivot_table(values=['amount_fraction'], index=['funding_round_type'], aggfunc=np.sum)\n",
    "plot1_fraction.plot(kind='bar')\n",
    "plt.show()"
   ]
  },
  {
   "cell_type": "code",
   "execution_count": 49,
   "metadata": {},
   "outputs": [
    {
     "data": {
      "image/png": "[encoded data removed]",
      "text/plain": [
       "<Figure size 432x288 with 1 Axes>"
      ]
     },
     "metadata": {
      "needs_background": "light"
     },
     "output_type": "display_data"
    }
   ],
   "source": [
    "##plot showing the top 9 countries against the total amount of investments of funding type FT\n",
    "plot1_fraction = top9.pivot_table(values=['raised_amount_usd'], index=['country_code'], aggfunc=np.sum)\n",
    "plot1_fraction_sorted = round(plot1_fraction.sort_values(['raised_amount_usd'], ascending=False))\n",
    "plot1_fraction_sorted.plot(kind='bar')\n",
    "plt.show()"
   ]
  },
  {
   "cell_type": "code",
   "execution_count": 50,
   "metadata": {},
   "outputs": [],
   "source": [
    "##plot showing the number of investments in the top 3 sectors of the top 3 countries on one chart \n",
    "D1_plot = D1.groupby(\"primary_sector\").raised_amount_usd.count().reset_index()\n",
    "D1_plot.sort_values([\"raised_amount_usd\"], axis=0,ascending=False, inplace=True)\n",
    "D1_plot = D1_plot.head(3)\n",
    "\n",
    "\n",
    "D2_plot = D2.groupby(\"primary_sector\").raised_amount_usd.count().reset_index()\n",
    "D2_plot.sort_values([\"raised_amount_usd\"], axis=0,ascending=False, inplace=True)\n",
    "D2_plot = D2_plot.head(3)\n",
    "\n",
    "\n",
    "D3_plot = D3.groupby(\"primary_sector\").raised_amount_usd.count().reset_index()\n",
    "D3_plot.sort_values([\"raised_amount_usd\"], axis=0,ascending=False, inplace=True)\n",
    "D3_plot = D3_plot.head(3)\n",
    "D12 = pd.merge(D1_plot,D2_plot,how='outer',on='primary_sector')\n",
    "D123 = pd.merge(D12,D3_plot,how='outer',on='primary_sector')\n",
    "\n"
   ]
  },
  {
   "cell_type": "code",
   "execution_count": 51,
   "metadata": {},
   "outputs": [
    {
     "data": {
      "text/html": [
       "<div>\n",
       "<style scoped>\n",
       "    .dataframe tbody tr th:only-of-type {\n",
       "        vertical-align: middle;\n",
       "    }\n",
       "\n",
       "    .dataframe tbody tr th {\n",
       "        vertical-align: top;\n",
       "    }\n",
       "\n",
       "    .dataframe thead th {\n",
       "        text-align: right;\n",
       "    }\n",
       "</style>\n",
       "<table border=\"1\" class=\"dataframe\">\n",
       "  <thead>\n",
       "    <tr style=\"text-align: right;\">\n",
       "      <th></th>\n",
       "      <th>USD</th>\n",
       "      <th>GBP</th>\n",
       "      <th>INR</th>\n",
       "    </tr>\n",
       "    <tr>\n",
       "      <th>primary_sector</th>\n",
       "      <th></th>\n",
       "      <th></th>\n",
       "      <th></th>\n",
       "    </tr>\n",
       "  </thead>\n",
       "  <tbody>\n",
       "    <tr>\n",
       "      <th>Biotechnology</th>\n",
       "      <td>9436.0</td>\n",
       "      <td>0.0</td>\n",
       "      <td>497.0</td>\n",
       "    </tr>\n",
       "    <tr>\n",
       "      <th>Software</th>\n",
       "      <td>3209.0</td>\n",
       "      <td>0.0</td>\n",
       "      <td>185.0</td>\n",
       "    </tr>\n",
       "    <tr>\n",
       "      <th>Health Care</th>\n",
       "      <td>2718.0</td>\n",
       "      <td>0.0</td>\n",
       "      <td>0.0</td>\n",
       "    </tr>\n",
       "    <tr>\n",
       "      <th>E-Commerce</th>\n",
       "      <td>0.0</td>\n",
       "      <td>221.0</td>\n",
       "      <td>0.0</td>\n",
       "    </tr>\n",
       "    <tr>\n",
       "      <th>Clean Technology</th>\n",
       "      <td>0.0</td>\n",
       "      <td>91.0</td>\n",
       "      <td>152.0</td>\n",
       "    </tr>\n",
       "    <tr>\n",
       "      <th>Real Estate</th>\n",
       "      <td>0.0</td>\n",
       "      <td>88.0</td>\n",
       "      <td>0.0</td>\n",
       "    </tr>\n",
       "  </tbody>\n",
       "</table>\n",
       "</div>"
      ],
      "text/plain": [
       "                     USD    GBP    INR\n",
       "primary_sector                        \n",
       "Biotechnology     9436.0    0.0  497.0\n",
       "Software          3209.0    0.0  185.0\n",
       "Health Care       2718.0    0.0    0.0\n",
       "E-Commerce           0.0  221.0    0.0\n",
       "Clean Technology     0.0   91.0  152.0\n",
       "Real Estate          0.0   88.0    0.0"
      ]
     },
     "execution_count": 51,
     "metadata": {},
     "output_type": "execute_result"
    }
   ],
   "source": [
    "D123 = D123.rename(columns={\"raised_amount_usd_x\": \"USD\", \"raised_amount_usd_y\": \"GBP\" ,\"raised_amount_usd\": \"INR\"})\n",
    "D123= D123.set_index(\"primary_sector\")\n",
    "D123.head()\n",
    "D123.fillna(0)"
   ]
  },
  {
   "cell_type": "code",
   "execution_count": 52,
   "metadata": {},
   "outputs": [
    {
     "data": {
      "text/plain": [
       "<matplotlib.axes._subplots.AxesSubplot at 0x16c459b4390>"
      ]
     },
     "execution_count": 52,
     "metadata": {},
     "output_type": "execute_result"
    },
    {
     "data": {
      "image/png": "[encoded data removed]",
      "text/plain": [
       "<Figure size 432x288 with 1 Axes>"
      ]
     },
     "metadata": {
      "needs_background": "light"
     },
     "output_type": "display_data"
    }
   ],
   "source": [
    "D123.T.plot.bar(logy=True)"
   ]
  },
  {
   "cell_type": "code",
   "execution_count": null,
   "metadata": {},
   "outputs": [],
   "source": []
  }
 ],
 "metadata": {
  "kernelspec": {
   "display_name": "Python 3",
   "language": "python",
   "name": "python3"
  },
  "language_info": {
   "codemirror_mode": {
    "name": "ipython",
    "version": 3
   },
   "file_extension": ".py",
   "mimetype": "text/x-python",
   "name": "python",
   "nbconvert_exporter": "python",
   "pygments_lexer": "ipython3",
   "version": "3.7.3"
  }
 },
 "nbformat": 4,
 "nbformat_minor": 2
}
