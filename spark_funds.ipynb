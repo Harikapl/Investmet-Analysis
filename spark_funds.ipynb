{
 "cells": [
  {
   "cell_type": "code",
   "execution_count": 1,
   "metadata": {},
   "outputs": [],
   "source": [
    "import pandas as pd\n",
    "import pandas_profiling\n",
    "import numpy as np\n",
    "from geonamescache.mappers import country\n",
    "import re\n",
    "import matplotlib.pyplot as plt"
   ]
  },
  {
   "cell_type": "code",
   "execution_count": 2,
   "metadata": {},
   "outputs": [],
   "source": [
    "##Company details\n",
    "companies = pd.read_csv('https://cdn.upgrad.com/UpGrad/temp/d934844e-5182-4b58-b896-4ba2a499aa57/companies.txt', sep='\\t',  encoding = 'ANSI')\n",
    "\n",
    "##Funding round details\n",
    "rounds2 = pd.read_csv('file:///C:/Users/Harika/Documents/ML & AI/rounds2.csv',  encoding = 'ANSI')\n",
    "\n",
    "##Sector Classification\n",
    "Sector_mapping = pd.read_csv('file:///C:/Users/Harika/Documents/ML & AI/mapping.csv',  encoding = 'ANSI')"
   ]
  },
  {
   "cell_type": "code",
   "execution_count": 3,
   "metadata": {},
   "outputs": [],
   "source": [
    "##Converting to letters to lower case and removing unwanted text from permalink column\n",
    "companies['permalink'] = companies['permalink'].apply(lambda x: \" \".join(x.lower() for x in x.split()))\n",
    "companies['permalink'] = companies['permalink'].replace(to_replace=['/organization/-','/organization/','-'], value=\"\",regex=True)"
   ]
  },
  {
   "cell_type": "code",
   "execution_count": 4,
   "metadata": {},
   "outputs": [
    {
     "data": {
      "text/plain": [
       "66290"
      ]
     },
     "execution_count": 4,
     "metadata": {},
     "output_type": "execute_result"
    }
   ],
   "source": [
    "##Calculating no. of unique companies \n",
    "companies['permalink'].nunique()"
   ]
  },
  {
   "cell_type": "code",
   "execution_count": 5,
   "metadata": {},
   "outputs": [
    {
     "name": "stdout",
     "output_type": "stream",
     "text": [
      "permalink         0.000000\n",
      "name              0.001507\n",
      "homepage_url      7.621143\n",
      "category_list     4.743250\n",
      "status            0.000000\n",
      "country_code     10.483968\n",
      "state_code       12.878194\n",
      "region           12.099204\n",
      "city             12.096191\n",
      "founded_at       22.934245\n",
      "dtype: float64\n"
     ]
    }
   ],
   "source": [
    "##Checking the percentage of missing values in each column\n",
    "percent_missing = ((companies.isnull() | companies.isna()).sum() * 100 / companies.index.size)\n",
    "print(percent_missing)"
   ]
  },
  {
   "cell_type": "code",
   "execution_count": 6,
   "metadata": {},
   "outputs": [],
   "source": [
    "##Removing columns that are not used for analysis having higher percentage of missing values to avoid high data loss\n",
    "removeddata = companies[['founded_at', 'state_code', 'state_code', 'city','homepage_url']]\n",
    "companies = companies.drop(removeddata, axis=1)"
   ]
  },
  {
   "cell_type": "code",
   "execution_count": 7,
   "metadata": {},
   "outputs": [
    {
     "data": {
      "text/html": [
       "<div>\n",
       "<style scoped>\n",
       "    .dataframe tbody tr th:only-of-type {\n",
       "        vertical-align: middle;\n",
       "    }\n",
       "\n",
       "    .dataframe tbody tr th {\n",
       "        vertical-align: top;\n",
       "    }\n",
       "\n",
       "    .dataframe thead th {\n",
       "        text-align: right;\n",
       "    }\n",
       "</style>\n",
       "<table border=\"1\" class=\"dataframe\">\n",
       "  <thead>\n",
       "    <tr style=\"text-align: right;\">\n",
       "      <th></th>\n",
       "      <th>permalink</th>\n",
       "      <th>name</th>\n",
       "      <th>category_list</th>\n",
       "      <th>status</th>\n",
       "      <th>country_code</th>\n",
       "      <th>region</th>\n",
       "    </tr>\n",
       "  </thead>\n",
       "  <tbody>\n",
       "    <tr>\n",
       "      <th>0</th>\n",
       "      <td>fame</td>\n",
       "      <td>#fame</td>\n",
       "      <td>Media</td>\n",
       "      <td>operating</td>\n",
       "      <td>IND</td>\n",
       "      <td>Mumbai</td>\n",
       "    </tr>\n",
       "    <tr>\n",
       "      <th>1</th>\n",
       "      <td>qounter</td>\n",
       "      <td>:Qounter</td>\n",
       "      <td>Application Platforms|Real Time|Social Network...</td>\n",
       "      <td>operating</td>\n",
       "      <td>USA</td>\n",
       "      <td>DE - Other</td>\n",
       "    </tr>\n",
       "    <tr>\n",
       "      <th>2</th>\n",
       "      <td>theoneoftheminc</td>\n",
       "      <td>(THE) ONE of THEM,Inc.</td>\n",
       "      <td>Apps|Games|Mobile</td>\n",
       "      <td>operating</td>\n",
       "      <td>NaN</td>\n",
       "      <td>NaN</td>\n",
       "    </tr>\n",
       "    <tr>\n",
       "      <th>3</th>\n",
       "      <td>06com</td>\n",
       "      <td>0-6.com</td>\n",
       "      <td>Curated Web</td>\n",
       "      <td>operating</td>\n",
       "      <td>CHN</td>\n",
       "      <td>Beijing</td>\n",
       "    </tr>\n",
       "    <tr>\n",
       "      <th>4</th>\n",
       "      <td>004technologies</td>\n",
       "      <td>004 Technologies</td>\n",
       "      <td>Software</td>\n",
       "      <td>operating</td>\n",
       "      <td>USA</td>\n",
       "      <td>Springfield, Illinois</td>\n",
       "    </tr>\n",
       "  </tbody>\n",
       "</table>\n",
       "</div>"
      ],
      "text/plain": [
       "         permalink                    name  \\\n",
       "0             fame                   #fame   \n",
       "1          qounter                :Qounter   \n",
       "2  theoneoftheminc  (THE) ONE of THEM,Inc.   \n",
       "3            06com                 0-6.com   \n",
       "4  004technologies        004 Technologies   \n",
       "\n",
       "                                       category_list     status country_code  \\\n",
       "0                                              Media  operating          IND   \n",
       "1  Application Platforms|Real Time|Social Network...  operating          USA   \n",
       "2                                  Apps|Games|Mobile  operating          NaN   \n",
       "3                                        Curated Web  operating          CHN   \n",
       "4                                           Software  operating          USA   \n",
       "\n",
       "                  region  \n",
       "0                 Mumbai  \n",
       "1             DE - Other  \n",
       "2                    NaN  \n",
       "3                Beijing  \n",
       "4  Springfield, Illinois  "
      ]
     },
     "execution_count": 7,
     "metadata": {},
     "output_type": "execute_result"
    }
   ],
   "source": [
    "companies.head()"
   ]
  },
  {
   "cell_type": "code",
   "execution_count": 8,
   "metadata": {},
   "outputs": [],
   "source": [
    "##removing missing values\n",
    "companies.dropna(inplace = True)"
   ]
  },
  {
   "cell_type": "code",
   "execution_count": 9,
   "metadata": {},
   "outputs": [
    {
     "name": "stdout",
     "output_type": "stream",
     "text": [
      "<class 'pandas.core.frame.DataFrame'>\n",
      "Int64Index: 56764 entries, 0 to 66366\n",
      "Data columns (total 6 columns):\n",
      "permalink        56764 non-null object\n",
      "name             56764 non-null object\n",
      "category_list    56764 non-null object\n",
      "status           56764 non-null object\n",
      "country_code     56764 non-null object\n",
      "region           56764 non-null object\n",
      "dtypes: object(6)\n",
      "memory usage: 3.0+ MB\n"
     ]
    }
   ],
   "source": [
    "companies.info()"
   ]
  },
  {
   "cell_type": "code",
   "execution_count": 10,
   "metadata": {},
   "outputs": [],
   "source": [
    "##unique companies in rounds2\n",
    "#converting to lowercase letters\n",
    "rounds2['company_permalink'] = rounds2['company_permalink'].apply(lambda x: \" \".join(x.lower() for x in x.split()))\n",
    "#removing unwanted words/symbols which don't make sense\n",
    "rounds2['company_permalink'] = rounds2['company_permalink'].replace(to_replace=['/organization/-','/organization/', '-'], value=\"\",regex=True)"
   ]
  },
  {
   "cell_type": "code",
   "execution_count": 11,
   "metadata": {},
   "outputs": [
    {
     "data": {
      "text/plain": [
       "66290"
      ]
     },
     "execution_count": 11,
     "metadata": {},
     "output_type": "execute_result"
    }
   ],
   "source": [
    "##Calculating no. of unique companies \n",
    "rounds2['company_permalink'].nunique()"
   ]
  },
  {
   "cell_type": "code",
   "execution_count": 12,
   "metadata": {},
   "outputs": [
    {
     "name": "stdout",
     "output_type": "stream",
     "text": [
      "company_permalink           0.000000\n",
      "funding_round_permalink     0.000000\n",
      "funding_round_type          0.000000\n",
      "funding_round_code         72.909725\n",
      "funded_at                   0.000000\n",
      "raised_amount_usd          17.390321\n",
      "dtype: float64\n"
     ]
    }
   ],
   "source": [
    "##Checking the percentage of missing values in each column\n",
    "percent_missing_rounds = ((rounds2.isnull() | rounds2.isna()).sum() * 100 / rounds2.index.size)\n",
    "print(percent_missing_rounds)"
   ]
  },
  {
   "cell_type": "code",
   "execution_count": 13,
   "metadata": {},
   "outputs": [],
   "source": [
    "##Removing columns that are not used for analysis having higher percentage of missing values to avoid high data loss\n",
    "removeddata = rounds2[['funding_round_code']]\n",
    "rounds2 = rounds2.drop(removeddata, axis=1)"
   ]
  },
  {
   "cell_type": "code",
   "execution_count": 14,
   "metadata": {},
   "outputs": [
    {
     "data": {
      "text/html": [
       "<div>\n",
       "<style scoped>\n",
       "    .dataframe tbody tr th:only-of-type {\n",
       "        vertical-align: middle;\n",
       "    }\n",
       "\n",
       "    .dataframe tbody tr th {\n",
       "        vertical-align: top;\n",
       "    }\n",
       "\n",
       "    .dataframe thead th {\n",
       "        text-align: right;\n",
       "    }\n",
       "</style>\n",
       "<table border=\"1\" class=\"dataframe\">\n",
       "  <thead>\n",
       "    <tr style=\"text-align: right;\">\n",
       "      <th></th>\n",
       "      <th>company_permalink</th>\n",
       "      <th>funding_round_permalink</th>\n",
       "      <th>funding_round_type</th>\n",
       "      <th>funded_at</th>\n",
       "      <th>raised_amount_usd</th>\n",
       "    </tr>\n",
       "  </thead>\n",
       "  <tbody>\n",
       "    <tr>\n",
       "      <th>0</th>\n",
       "      <td>fame</td>\n",
       "      <td>/funding-round/9a01d05418af9f794eebff7ace91f638</td>\n",
       "      <td>venture</td>\n",
       "      <td>05-01-2015</td>\n",
       "      <td>10000000.0</td>\n",
       "    </tr>\n",
       "    <tr>\n",
       "      <th>1</th>\n",
       "      <td>qounter</td>\n",
       "      <td>/funding-round/22dacff496eb7acb2b901dec1dfe5633</td>\n",
       "      <td>venture</td>\n",
       "      <td>14-10-2014</td>\n",
       "      <td>NaN</td>\n",
       "    </tr>\n",
       "    <tr>\n",
       "      <th>2</th>\n",
       "      <td>qounter</td>\n",
       "      <td>/funding-round/b44fbb94153f6cdef13083530bb48030</td>\n",
       "      <td>seed</td>\n",
       "      <td>01-03-2014</td>\n",
       "      <td>700000.0</td>\n",
       "    </tr>\n",
       "    <tr>\n",
       "      <th>3</th>\n",
       "      <td>theoneoftheminc</td>\n",
       "      <td>/funding-round/650b8f704416801069bb178a1418776b</td>\n",
       "      <td>venture</td>\n",
       "      <td>30-01-2014</td>\n",
       "      <td>3406878.0</td>\n",
       "    </tr>\n",
       "    <tr>\n",
       "      <th>4</th>\n",
       "      <td>06com</td>\n",
       "      <td>/funding-round/5727accaeaa57461bd22a9bdd945382d</td>\n",
       "      <td>venture</td>\n",
       "      <td>19-03-2008</td>\n",
       "      <td>2000000.0</td>\n",
       "    </tr>\n",
       "  </tbody>\n",
       "</table>\n",
       "</div>"
      ],
      "text/plain": [
       "  company_permalink                          funding_round_permalink  \\\n",
       "0              fame  /funding-round/9a01d05418af9f794eebff7ace91f638   \n",
       "1           qounter  /funding-round/22dacff496eb7acb2b901dec1dfe5633   \n",
       "2           qounter  /funding-round/b44fbb94153f6cdef13083530bb48030   \n",
       "3   theoneoftheminc  /funding-round/650b8f704416801069bb178a1418776b   \n",
       "4             06com  /funding-round/5727accaeaa57461bd22a9bdd945382d   \n",
       "\n",
       "  funding_round_type   funded_at  raised_amount_usd  \n",
       "0            venture  05-01-2015         10000000.0  \n",
       "1            venture  14-10-2014                NaN  \n",
       "2               seed  01-03-2014           700000.0  \n",
       "3            venture  30-01-2014          3406878.0  \n",
       "4            venture  19-03-2008          2000000.0  "
      ]
     },
     "execution_count": 14,
     "metadata": {},
     "output_type": "execute_result"
    }
   ],
   "source": [
    "rounds2.head()"
   ]
  },
  {
   "cell_type": "code",
   "execution_count": 15,
   "metadata": {},
   "outputs": [],
   "source": [
    "##removing missing values\n",
    "rounds2.dropna(inplace = True)"
   ]
  },
  {
   "cell_type": "code",
   "execution_count": 16,
   "metadata": {},
   "outputs": [
    {
     "name": "stdout",
     "output_type": "stream",
     "text": [
      "<class 'pandas.core.frame.DataFrame'>\n",
      "Int64Index: 94959 entries, 0 to 114948\n",
      "Data columns (total 5 columns):\n",
      "company_permalink          94959 non-null object\n",
      "funding_round_permalink    94959 non-null object\n",
      "funding_round_type         94959 non-null object\n",
      "funded_at                  94959 non-null object\n",
      "raised_amount_usd          94959 non-null float64\n",
      "dtypes: float64(1), object(4)\n",
      "memory usage: 4.3+ MB\n"
     ]
    }
   ],
   "source": [
    "rounds2.info()"
   ]
  },
  {
   "cell_type": "code",
   "execution_count": 17,
   "metadata": {},
   "outputs": [],
   "source": [
    "##merging rounds2 & companies dataframes to create master_frame\n",
    "master_frame = pd.merge(rounds2,companies,how='inner',left_on ='company_permalink', right_on = 'permalink')"
   ]
  },
  {
   "cell_type": "code",
   "execution_count": 18,
   "metadata": {},
   "outputs": [
    {
     "name": "stdout",
     "output_type": "stream",
     "text": [
      "<class 'pandas.core.frame.DataFrame'>\n",
      "Int64Index: 87516 entries, 0 to 87515\n",
      "Data columns (total 11 columns):\n",
      "company_permalink          87516 non-null object\n",
      "funding_round_permalink    87516 non-null object\n",
      "funding_round_type         87516 non-null object\n",
      "funded_at                  87516 non-null object\n",
      "raised_amount_usd          87516 non-null float64\n",
      "permalink                  87516 non-null object\n",
      "name                       87516 non-null object\n",
      "category_list              87516 non-null object\n",
      "status                     87516 non-null object\n",
      "country_code               87516 non-null object\n",
      "region                     87516 non-null object\n",
      "dtypes: float64(1), object(10)\n",
      "memory usage: 8.0+ MB\n"
     ]
    }
   ],
   "source": [
    "master_frame.info()"
   ]
  },
  {
   "cell_type": "code",
   "execution_count": 19,
   "metadata": {},
   "outputs": [],
   "source": [
    "##Subsetting the data in master_frame with selected fund types and funding amount between 5M & 15M\n",
    "fund_type = ['venture','seed', 'angel', 'private_equity']\n",
    "fundingtype_subset = master_frame.loc[master_frame['funding_round_type'].isin(fund_type)]\n"
   ]
  },
  {
   "cell_type": "code",
   "execution_count": 20,
   "metadata": {},
   "outputs": [
    {
     "data": {
      "text/plain": [
       "venture           47312\n",
       "seed              20795\n",
       "angel              4349\n",
       "private_equity     1786\n",
       "Name: funding_round_type, dtype: int64"
      ]
     },
     "execution_count": 20,
     "metadata": {},
     "output_type": "execute_result"
    }
   ],
   "source": [
    "fundingtype_subset['funding_round_type'].value_counts()"
   ]
  },
  {
   "cell_type": "code",
   "execution_count": 21,
   "metadata": {},
   "outputs": [
    {
     "data": {
      "text/html": [
       "<div>\n",
       "<style scoped>\n",
       "    .dataframe tbody tr th:only-of-type {\n",
       "        vertical-align: middle;\n",
       "    }\n",
       "\n",
       "    .dataframe tbody tr th {\n",
       "        vertical-align: top;\n",
       "    }\n",
       "\n",
       "    .dataframe thead th {\n",
       "        text-align: right;\n",
       "    }\n",
       "</style>\n",
       "<table border=\"1\" class=\"dataframe\">\n",
       "  <thead>\n",
       "    <tr style=\"text-align: right;\">\n",
       "      <th></th>\n",
       "      <th>raised_amount_usd</th>\n",
       "    </tr>\n",
       "    <tr>\n",
       "      <th>funding_round_type</th>\n",
       "      <th></th>\n",
       "    </tr>\n",
       "  </thead>\n",
       "  <tbody>\n",
       "    <tr>\n",
       "      <th>angel</th>\n",
       "      <td>1.0</td>\n",
       "    </tr>\n",
       "    <tr>\n",
       "      <th>private_equity</th>\n",
       "      <td>71.0</td>\n",
       "    </tr>\n",
       "    <tr>\n",
       "      <th>seed</th>\n",
       "      <td>1.0</td>\n",
       "    </tr>\n",
       "    <tr>\n",
       "      <th>venture</th>\n",
       "      <td>12.0</td>\n",
       "    </tr>\n",
       "  </tbody>\n",
       "</table>\n",
       "</div>"
      ],
      "text/plain": [
       "                    raised_amount_usd\n",
       "funding_round_type                   \n",
       "angel                             1.0\n",
       "private_equity                   71.0\n",
       "seed                              1.0\n",
       "venture                          12.0"
      ]
     },
     "execution_count": 21,
     "metadata": {},
     "output_type": "execute_result"
    }
   ],
   "source": [
    "##checking the amount millions\n",
    "round(((fundingtype_subset.groupby(['funding_round_type']).mean()))/1000000 )"
   ]
  },
  {
   "cell_type": "code",
   "execution_count": 22,
   "metadata": {},
   "outputs": [],
   "source": [
    "fundingtype_subset = fundingtype_subset.loc[(5000000 <= fundingtype_subset['raised_amount_usd']) & (fundingtype_subset['raised_amount_usd']>= 15000000)] "
   ]
  },
  {
   "cell_type": "code",
   "execution_count": 23,
   "metadata": {},
   "outputs": [],
   "source": [
    "##subsetting the data with only venture fund type\n",
    "venture_data = fundingtype_subset.loc[fundingtype_subset['funding_round_type'] == 'venture'] "
   ]
  },
  {
   "cell_type": "code",
   "execution_count": 24,
   "metadata": {},
   "outputs": [
    {
     "name": "stdout",
     "output_type": "stream",
     "text": [
      "<class 'pandas.core.frame.DataFrame'>\n",
      "Int64Index: 9820 entries, 7 to 87485\n",
      "Data columns (total 11 columns):\n",
      "company_permalink          9820 non-null object\n",
      "funding_round_permalink    9820 non-null object\n",
      "funding_round_type         9820 non-null object\n",
      "funded_at                  9820 non-null object\n",
      "raised_amount_usd          9820 non-null float64\n",
      "permalink                  9820 non-null object\n",
      "name                       9820 non-null object\n",
      "category_list              9820 non-null object\n",
      "status                     9820 non-null object\n",
      "country_code               9820 non-null object\n",
      "region                     9820 non-null object\n",
      "dtypes: float64(1), object(10)\n",
      "memory usage: 920.6+ KB\n"
     ]
    }
   ],
   "source": [
    "venture_data.info()"
   ]
  },
  {
   "cell_type": "code",
   "execution_count": 25,
   "metadata": {},
   "outputs": [
    {
     "data": {
      "text/html": [
       "<div>\n",
       "<style scoped>\n",
       "    .dataframe tbody tr th:only-of-type {\n",
       "        vertical-align: middle;\n",
       "    }\n",
       "\n",
       "    .dataframe tbody tr th {\n",
       "        vertical-align: top;\n",
       "    }\n",
       "\n",
       "    .dataframe thead th {\n",
       "        text-align: right;\n",
       "    }\n",
       "</style>\n",
       "<table border=\"1\" class=\"dataframe\">\n",
       "  <thead>\n",
       "    <tr style=\"text-align: right;\">\n",
       "      <th></th>\n",
       "      <th>raised_amount_usd</th>\n",
       "    </tr>\n",
       "    <tr>\n",
       "      <th>country_code</th>\n",
       "      <th></th>\n",
       "    </tr>\n",
       "  </thead>\n",
       "  <tbody>\n",
       "    <tr>\n",
       "      <th>USA</th>\n",
       "      <td>2.942897e+11</td>\n",
       "    </tr>\n",
       "    <tr>\n",
       "      <th>CHN</th>\n",
       "      <td>3.222441e+10</td>\n",
       "    </tr>\n",
       "    <tr>\n",
       "      <th>GBR</th>\n",
       "      <td>1.238023e+10</td>\n",
       "    </tr>\n",
       "    <tr>\n",
       "      <th>IND</th>\n",
       "      <td>1.113765e+10</td>\n",
       "    </tr>\n",
       "    <tr>\n",
       "      <th>CAN</th>\n",
       "      <td>4.976888e+09</td>\n",
       "    </tr>\n",
       "    <tr>\n",
       "      <th>DEU</th>\n",
       "      <td>4.062514e+09</td>\n",
       "    </tr>\n",
       "    <tr>\n",
       "      <th>FRA</th>\n",
       "      <td>3.728109e+09</td>\n",
       "    </tr>\n",
       "    <tr>\n",
       "      <th>ISR</th>\n",
       "      <td>3.413256e+09</td>\n",
       "    </tr>\n",
       "    <tr>\n",
       "      <th>JPN</th>\n",
       "      <td>2.227212e+09</td>\n",
       "    </tr>\n",
       "  </tbody>\n",
       "</table>\n",
       "</div>"
      ],
      "text/plain": [
       "              raised_amount_usd\n",
       "country_code                   \n",
       "USA                2.942897e+11\n",
       "CHN                3.222441e+10\n",
       "GBR                1.238023e+10\n",
       "IND                1.113765e+10\n",
       "CAN                4.976888e+09\n",
       "DEU                4.062514e+09\n",
       "FRA                3.728109e+09\n",
       "ISR                3.413256e+09\n",
       "JPN                2.227212e+09"
      ]
     },
     "execution_count": 25,
     "metadata": {},
     "output_type": "execute_result"
    }
   ],
   "source": [
    "##extracting the top 9 countries\n",
    "country_grps = venture_data.pivot_table(values=['raised_amount_usd'], index=['country_code'], aggfunc=np.sum)\n",
    "data_sorted = round(country_grps.sort_values(['raised_amount_usd'], ascending=False))\n",
    "round(data_sorted.head(9))"
   ]
  },
  {
   "cell_type": "code",
   "execution_count": 26,
   "metadata": {},
   "outputs": [
    {
     "data": {
      "text/html": [
       "<div>\n",
       "<style scoped>\n",
       "    .dataframe tbody tr th:only-of-type {\n",
       "        vertical-align: middle;\n",
       "    }\n",
       "\n",
       "    .dataframe tbody tr th {\n",
       "        vertical-align: top;\n",
       "    }\n",
       "\n",
       "    .dataframe thead th {\n",
       "        text-align: right;\n",
       "    }\n",
       "</style>\n",
       "<table border=\"1\" class=\"dataframe\">\n",
       "  <thead>\n",
       "    <tr style=\"text-align: right;\">\n",
       "      <th></th>\n",
       "      <th>company_permalink</th>\n",
       "      <th>funding_round_permalink</th>\n",
       "      <th>funding_round_type</th>\n",
       "      <th>funded_at</th>\n",
       "      <th>raised_amount_usd</th>\n",
       "      <th>permalink</th>\n",
       "      <th>name</th>\n",
       "      <th>category_list</th>\n",
       "      <th>status</th>\n",
       "      <th>country_code</th>\n",
       "      <th>region</th>\n",
       "    </tr>\n",
       "  </thead>\n",
       "  <tbody>\n",
       "    <tr>\n",
       "      <th>7</th>\n",
       "      <td>0xdata</td>\n",
       "      <td>/funding-round/3bb2ee4a2d89251a10aaa735b1180e44</td>\n",
       "      <td>venture</td>\n",
       "      <td>09-11-2015</td>\n",
       "      <td>20000000.0</td>\n",
       "      <td>0xdata</td>\n",
       "      <td>H2O.ai</td>\n",
       "      <td>Analytics</td>\n",
       "      <td>operating</td>\n",
       "      <td>USA</td>\n",
       "      <td>SF Bay Area</td>\n",
       "    </tr>\n",
       "    <tr>\n",
       "      <th>48</th>\n",
       "      <td>1010data</td>\n",
       "      <td>/funding-round/482fbf992b48f5c47d0080ab7ec0cb54</td>\n",
       "      <td>venture</td>\n",
       "      <td>08-03-2010</td>\n",
       "      <td>35000000.0</td>\n",
       "      <td>1010data</td>\n",
       "      <td>1010data</td>\n",
       "      <td>Software</td>\n",
       "      <td>acquired</td>\n",
       "      <td>USA</td>\n",
       "      <td>New York City</td>\n",
       "    </tr>\n",
       "    <tr>\n",
       "      <th>52</th>\n",
       "      <td>10xgenomics</td>\n",
       "      <td>/funding-round/563923487783bdeb5d0b7872f3d6b99a</td>\n",
       "      <td>venture</td>\n",
       "      <td>12-01-2015</td>\n",
       "      <td>55000000.0</td>\n",
       "      <td>10xgenomics</td>\n",
       "      <td>10X Genomics</td>\n",
       "      <td>Biotechnology|Technology</td>\n",
       "      <td>operating</td>\n",
       "      <td>USA</td>\n",
       "      <td>SF Bay Area</td>\n",
       "    </tr>\n",
       "    <tr>\n",
       "      <th>57</th>\n",
       "      <td>117go</td>\n",
       "      <td>/funding-round/bbbda407fa8638d944ecfdd042230c4b</td>\n",
       "      <td>venture</td>\n",
       "      <td>28-04-2014</td>\n",
       "      <td>20000000.0</td>\n",
       "      <td>117go</td>\n",
       "      <td>117go</td>\n",
       "      <td>Social Travel</td>\n",
       "      <td>operating</td>\n",
       "      <td>CHN</td>\n",
       "      <td>Shanghai</td>\n",
       "    </tr>\n",
       "    <tr>\n",
       "      <th>77</th>\n",
       "      <td>1366technologies</td>\n",
       "      <td>/funding-round/424129ce1235cfab2655ee81305f7c2b</td>\n",
       "      <td>venture</td>\n",
       "      <td>15-10-2013</td>\n",
       "      <td>15000000.0</td>\n",
       "      <td>1366technologies</td>\n",
       "      <td>1366 Technologies</td>\n",
       "      <td>Manufacturing</td>\n",
       "      <td>operating</td>\n",
       "      <td>USA</td>\n",
       "      <td>Boston</td>\n",
       "    </tr>\n",
       "  </tbody>\n",
       "</table>\n",
       "</div>"
      ],
      "text/plain": [
       "   company_permalink                          funding_round_permalink  \\\n",
       "7             0xdata  /funding-round/3bb2ee4a2d89251a10aaa735b1180e44   \n",
       "48          1010data  /funding-round/482fbf992b48f5c47d0080ab7ec0cb54   \n",
       "52       10xgenomics  /funding-round/563923487783bdeb5d0b7872f3d6b99a   \n",
       "57             117go  /funding-round/bbbda407fa8638d944ecfdd042230c4b   \n",
       "77  1366technologies  /funding-round/424129ce1235cfab2655ee81305f7c2b   \n",
       "\n",
       "   funding_round_type   funded_at  raised_amount_usd         permalink  \\\n",
       "7             venture  09-11-2015         20000000.0            0xdata   \n",
       "48            venture  08-03-2010         35000000.0          1010data   \n",
       "52            venture  12-01-2015         55000000.0       10xgenomics   \n",
       "57            venture  28-04-2014         20000000.0             117go   \n",
       "77            venture  15-10-2013         15000000.0  1366technologies   \n",
       "\n",
       "                 name             category_list     status country_code  \\\n",
       "7              H2O.ai                 Analytics  operating          USA   \n",
       "48           1010data                  Software   acquired          USA   \n",
       "52       10X Genomics  Biotechnology|Technology  operating          USA   \n",
       "57              117go             Social Travel  operating          CHN   \n",
       "77  1366 Technologies             Manufacturing  operating          USA   \n",
       "\n",
       "           region  \n",
       "7     SF Bay Area  \n",
       "48  New York City  \n",
       "52    SF Bay Area  \n",
       "57       Shanghai  \n",
       "77         Boston  "
      ]
     },
     "execution_count": 26,
     "metadata": {},
     "output_type": "execute_result"
    }
   ],
   "source": [
    "##Creating the dataframe with top 9 countries\n",
    "top9 = venture_data.loc[venture_data['country_code'].isin (['USA', 'CHN', 'GBR', 'IND', 'CAN', 'FRA', 'ISR', 'DEU', 'JPN'])]\n",
    "top9.head()"
   ]
  },
  {
   "cell_type": "code",
   "execution_count": 27,
   "metadata": {},
   "outputs": [],
   "source": [
    "##dataframe of countries with english as official language\n",
    "english_countries = pd.read_csv('file:///C:/Users/Harika/Documents/ML & AI/list_of_english-speaking_countries_in_the_world-2177j_1.csv', encoding = 'ANSI')"
   ]
  },
  {
   "cell_type": "code",
   "execution_count": 28,
   "metadata": {},
   "outputs": [
    {
     "data": {
      "text/html": [
       "<div>\n",
       "<style scoped>\n",
       "    .dataframe tbody tr th:only-of-type {\n",
       "        vertical-align: middle;\n",
       "    }\n",
       "\n",
       "    .dataframe tbody tr th {\n",
       "        vertical-align: top;\n",
       "    }\n",
       "\n",
       "    .dataframe thead th {\n",
       "        text-align: right;\n",
       "    }\n",
       "</style>\n",
       "<table border=\"1\" class=\"dataframe\">\n",
       "  <thead>\n",
       "    <tr style=\"text-align: right;\">\n",
       "      <th></th>\n",
       "      <th>Country</th>\n",
       "      <th>Population</th>\n",
       "      <th>Status Of English As A Language</th>\n",
       "      <th>country_code</th>\n",
       "    </tr>\n",
       "  </thead>\n",
       "  <tbody>\n",
       "    <tr>\n",
       "      <th>0</th>\n",
       "      <td>India</td>\n",
       "      <td>1247540000</td>\n",
       "      <td>de jure official language</td>\n",
       "      <td>IND</td>\n",
       "    </tr>\n",
       "    <tr>\n",
       "      <th>1</th>\n",
       "      <td>United States</td>\n",
       "      <td>318224000</td>\n",
       "      <td>de facto official language</td>\n",
       "      <td>USA</td>\n",
       "    </tr>\n",
       "    <tr>\n",
       "      <th>2</th>\n",
       "      <td>United Kingdom</td>\n",
       "      <td>63705000</td>\n",
       "      <td>de facto official language</td>\n",
       "      <td>GBR</td>\n",
       "    </tr>\n",
       "    <tr>\n",
       "      <th>3</th>\n",
       "      <td>Nigeria</td>\n",
       "      <td>218093000</td>\n",
       "      <td>de jure official language</td>\n",
       "      <td>NGA</td>\n",
       "    </tr>\n",
       "    <tr>\n",
       "      <th>4</th>\n",
       "      <td>Pakistan</td>\n",
       "      <td>165449000</td>\n",
       "      <td>de jure official language</td>\n",
       "      <td>PAK</td>\n",
       "    </tr>\n",
       "  </tbody>\n",
       "</table>\n",
       "</div>"
      ],
      "text/plain": [
       "          Country  Population Status Of English As A Language country_code\n",
       "0           India  1247540000       de jure official language          IND\n",
       "1   United States   318224000      de facto official language          USA\n",
       "2  United Kingdom    63705000      de facto official language          GBR\n",
       "3         Nigeria   218093000       de jure official language          NGA\n",
       "4        Pakistan   165449000       de jure official language          PAK"
      ]
     },
     "execution_count": 28,
     "metadata": {},
     "output_type": "execute_result"
    }
   ],
   "source": [
    "##mapping the countries in english_countries dataframe to iso3 codes\n",
    "mapper = country(from_key='name', to_key='iso3')\n",
    "english_countries['country_code'] = english_countries['Country'].apply(lambda x: mapper(x))\n",
    "english_countries.head()"
   ]
  },
  {
   "cell_type": "code",
   "execution_count": 29,
   "metadata": {},
   "outputs": [
    {
     "name": "stdout",
     "output_type": "stream",
     "text": [
      "         Country  Population Status Of English As A Language country_code\n",
      "0          India  1247540000       de jure official language          IND\n",
      "1  United States   318224000      de facto official language          USA\n",
      "3        Nigeria   218093000       de jure official language          NGA\n"
     ]
    }
   ],
   "source": [
    "##Checking the top 3 english speaking countries\n",
    "print(english_countries.nlargest(3, 'Population'))"
   ]
  },
  {
   "cell_type": "code",
   "execution_count": 30,
   "metadata": {},
   "outputs": [],
   "source": [
    "##mapping the sector\n",
    "mapping = pd.melt(Sector_mapping, id_vars=['category_list'], value_vars=['Automotive & Sports', 'Cleantech / Semiconductors', 'Entertainment', 'Health', 'Manufacturing', 'News, Search and Messaging', 'Others', 'Social, Finance, Analytics, Advertising'])"
   ]
  },
  {
   "cell_type": "code",
   "execution_count": 31,
   "metadata": {},
   "outputs": [],
   "source": [
    "mapping = mapping.drop(mapping[['value']], axis = 1)"
   ]
  },
  {
   "cell_type": "code",
   "execution_count": 32,
   "metadata": {},
   "outputs": [],
   "source": [
    "##merging fundingtype_subset with mapping\n",
    "fundingtype_subset = fundingtype_subset.merge(mapping, on='category_list', how='left')\n",
    "fundingtype_subset = fundingtype_subset.rename({'variable': 'main_sector'}, axis = 1)"
   ]
  },
  {
   "cell_type": "code",
   "execution_count": 33,
   "metadata": {},
   "outputs": [],
   "source": [
    "##Deriving the primary sector\n",
    "fundingtype_subset['primary_sector'] = fundingtype_subset['category_list'].apply(lambda x: x.split('|')[0])"
   ]
  },
  {
   "cell_type": "code",
   "execution_count": 34,
   "metadata": {},
   "outputs": [],
   "source": [
    "D1 = fundingtype_subset.loc[(fundingtype_subset['country_code'] == 'USA')] "
   ]
  },
  {
   "cell_type": "code",
   "execution_count": 36,
   "metadata": {
    "scrolled": true
   },
   "outputs": [
    {
     "name": "stdout",
     "output_type": "stream",
     "text": [
      "36138\n",
      "1503188572073.0\n"
     ]
    }
   ],
   "source": [
    "print(D1.raised_amount_usd.count())\n",
    "print(D1.raised_amount_usd.sum())"
   ]
  },
  {
   "cell_type": "code",
   "execution_count": 37,
   "metadata": {},
   "outputs": [],
   "source": [
    "D2 = fundingtype_subset.loc[(fundingtype_subset['country_code'] == 'CHN')] "
   ]
  },
  {
   "cell_type": "code",
   "execution_count": 38,
   "metadata": {},
   "outputs": [
    {
     "name": "stdout",
     "output_type": "stream",
     "text": [
      "2710\n",
      "186805090674.0\n"
     ]
    }
   ],
   "source": [
    "print(D2.raised_amount_usd.count())\n",
    "print(D2.raised_amount_usd.sum())"
   ]
  },
  {
   "cell_type": "code",
   "execution_count": 39,
   "metadata": {},
   "outputs": [],
   "source": [
    "D3 = fundingtype_subset.loc[(fundingtype_subset['country_code'] == 'GBR')]"
   ]
  },
  {
   "cell_type": "code",
   "execution_count": 40,
   "metadata": {},
   "outputs": [
    {
     "name": "stdout",
     "output_type": "stream",
     "text": [
      "1827\n",
      "1203472752.8285713\n"
     ]
    }
   ],
   "source": [
    "print(D3.raised_amount_usd.count())\n",
    "print((D3.raised_amount_usd.sum())/70)"
   ]
  },
  {
   "cell_type": "code",
   "execution_count": 41,
   "metadata": {},
   "outputs": [
    {
     "data": {
      "text/plain": [
       "Biotechnology                    9435\n",
       "Software                         3209\n",
       "Health Care                      2710\n",
       "Clean Technology                 2608\n",
       "Semiconductors                   1667\n",
       "Enterprise Software              1539\n",
       "Hardware + Software              1243\n",
       "Mobile                           1132\n",
       "Web Hosting                       993\n",
       "E-Commerce                        834\n",
       "Advertising                       830\n",
       "Health and Wellness               783\n",
       "Security                          737\n",
       "Manufacturing                     570\n",
       "Games                             509\n",
       "Curated Web                       441\n",
       "Analytics                         286\n",
       "Pharmaceuticals                   280\n",
       "Technology                        273\n",
       "Consulting                        230\n",
       "Hospitality                       200\n",
       "News                              152\n",
       "Real Estate                       145\n",
       "Messaging                         142\n",
       "Public Relations                  138\n",
       "Finance                           133\n",
       "Fashion                           129\n",
       "Cloud Computing                   128\n",
       "Education                         121\n",
       "Public Transportation             114\n",
       "                                 ... \n",
       "Intellectual Asset Management       1\n",
       "Domains                             1\n",
       "Enterprise 2.0                      1\n",
       "Internet Service Providers          1\n",
       "Recruiting                          1\n",
       "Specialty Retail                    1\n",
       "Celebrity                           1\n",
       "Mobile Devices                      1\n",
       "Governments                         1\n",
       "Corporate Training                  1\n",
       "Web Browsers                        1\n",
       "Custom Retail                       1\n",
       "Mobile Analytics                    1\n",
       "Designers                           1\n",
       "Senior Citizens                     1\n",
       "Anything Capital Intensive          1\n",
       "Medical Professionals               1\n",
       "Meeting Software                    1\n",
       "Parking                             1\n",
       "Active Lifestyle                    1\n",
       "Task Management                     1\n",
       "Freelancers                         1\n",
       "Business Information Systems        1\n",
       "Environmental Innovation            1\n",
       "EDA Tools                           1\n",
       "Waste Management                    1\n",
       "Non Profit                          1\n",
       "E-Books                             1\n",
       "Farming                             1\n",
       "Customer Support Tools              1\n",
       "Name: primary_sector, Length: 362, dtype: int64"
      ]
     },
     "execution_count": 41,
     "metadata": {},
     "output_type": "execute_result"
    }
   ],
   "source": [
    "D1.primary_sector.value_counts()"
   ]
  },
  {
   "cell_type": "code",
   "execution_count": 42,
   "metadata": {
    "scrolled": true
   },
   "outputs": [
    {
     "data": {
      "text/plain": [
       "E-Commerce                     567\n",
       "Advertising                    164\n",
       "Biotechnology                  145\n",
       "Mobile                         129\n",
       "Travel                         120\n",
       "Social Media                   120\n",
       "Games                          115\n",
       "Photography                    113\n",
       "Software                       107\n",
       "Manufacturing                   73\n",
       "Curated Web                     69\n",
       "Education                       69\n",
       "Clean Technology                66\n",
       "Real Estate                     56\n",
       "Health and Wellness             55\n",
       "Health Care                     47\n",
       "Public Transportation           46\n",
       "Semiconductors                  40\n",
       "Fashion                         36\n",
       "Automotive                      34\n",
       "Enterprise Software             34\n",
       "Classifieds                     32\n",
       "Internet                        28\n",
       "Music                           24\n",
       "Pharmaceuticals                 24\n",
       "Payments                        24\n",
       "Consulting                      18\n",
       "Finance                         18\n",
       "News                            16\n",
       "Security                        16\n",
       "                              ... \n",
       "Mobile Software Tools            1\n",
       "Information Services             1\n",
       "Design                           1\n",
       "Bicycles                         1\n",
       "Gold                             1\n",
       "Algorithms                       1\n",
       "Baby Accessories                 1\n",
       "Logistics                        1\n",
       "Digital Media                    1\n",
       "File Sharing                     1\n",
       "Online Dating                    1\n",
       "Fitness                          1\n",
       "Contact Management               1\n",
       "Electric Vehicles                1\n",
       "Bridging Online and Offline      1\n",
       "Hotels                           1\n",
       "Analytics                        1\n",
       "Communities                      1\n",
       "Business Intelligence            1\n",
       "Cars                             1\n",
       "Consumers                        1\n",
       "Big Data                         1\n",
       "Information Technology           1\n",
       "Art                              1\n",
       "Ad Targeting                     1\n",
       "Crowdsourcing                    1\n",
       "Babies                           1\n",
       "Farming                          1\n",
       "Recruiting                       1\n",
       "3D                               1\n",
       "Name: primary_sector, Length: 103, dtype: int64"
      ]
     },
     "execution_count": 42,
     "metadata": {},
     "output_type": "execute_result"
    }
   ],
   "source": [
    "D2.primary_sector.value_counts()"
   ]
  },
  {
   "cell_type": "code",
   "execution_count": 43,
   "metadata": {},
   "outputs": [
    {
     "data": {
      "text/plain": [
       "Biotechnology              441\n",
       "Software                   185\n",
       "Mobile                     144\n",
       "Clean Technology           120\n",
       "E-Commerce                  76\n",
       "Enterprise Software         58\n",
       "Semiconductors              57\n",
       "Hardware + Software         57\n",
       "Consulting                  56\n",
       "Web Hosting                 48\n",
       "Manufacturing               48\n",
       "Curated Web                 44\n",
       "Advertising                 38\n",
       "Games                       26\n",
       "Technology                  26\n",
       "Food Processing             24\n",
       "Messaging                   24\n",
       "Internet                    18\n",
       "Telecommunications          18\n",
       "Security                    16\n",
       "Music                       16\n",
       "Pharmaceuticals             16\n",
       "Network Security            16\n",
       "Travel                      16\n",
       "P2P Money Transfer          16\n",
       "Finance                     15\n",
       "Health Care                 12\n",
       "Apps                        12\n",
       "Bio-Pharm                    9\n",
       "Customer Service             8\n",
       "                          ... \n",
       "Career Planning              1\n",
       "Location Based Services      1\n",
       "Musicians                    1\n",
       "Document Management          1\n",
       "Healthcare Services          1\n",
       "App Marketing                1\n",
       "Bitcoin                      1\n",
       "Fashion                      1\n",
       "Commercial Real Estate       1\n",
       "Ediscovery                   1\n",
       "Hardware                     1\n",
       "Developer APIs               1\n",
       "Chemicals                    1\n",
       "Service Providers            1\n",
       "Electronics                  1\n",
       "Credit Cards                 1\n",
       "News                         1\n",
       "Energy                       1\n",
       "Online Travel                1\n",
       "Racing                       1\n",
       "Distribution                 1\n",
       "Clinical Trials              1\n",
       "Peer-to-Peer                 1\n",
       "iPhone                       1\n",
       "Concerts                     1\n",
       "Insurance                    1\n",
       "Databases                    1\n",
       "Big Data Analytics           1\n",
       "Fitness                      1\n",
       "Diabetes                     1\n",
       "Name: primary_sector, Length: 90, dtype: int64"
      ]
     },
     "execution_count": 43,
     "metadata": {},
     "output_type": "execute_result"
    }
   ],
   "source": [
    "D3.primary_sector.value_counts()"
   ]
  },
  {
   "cell_type": "code",
   "execution_count": 44,
   "metadata": {},
   "outputs": [
    {
     "name": "stdout",
     "output_type": "stream",
     "text": [
      "     primary_sector permalink  raised_amount_usd\n",
      "2704     E-Commerce  fanatics       4.960000e+09\n"
     ]
    }
   ],
   "source": [
    "##company which received highest investment from C1 for top sector\n",
    "D1_group = D1.groupby(['primary_sector', 'permalink'])['raised_amount_usd'].sum().reset_index()\n",
    "ecommerce = D1_group.loc[D1_group['primary_sector'] == 'E-Commerce']\n",
    "print(round(ecommerce.nlargest(1, 'raised_amount_usd')))"
   ]
  },
  {
   "cell_type": "code",
   "execution_count": 45,
   "metadata": {},
   "outputs": [
    {
     "name": "stdout",
     "output_type": "stream",
     "text": [
      "   primary_sector permalink  raised_amount_usd\n",
      "53  Biotechnology   beigene       1.372800e+09\n"
     ]
    }
   ],
   "source": [
    "##company which received highest investment from C2 for top sector\n",
    "D2_group = D2.groupby(['primary_sector', 'permalink'])['raised_amount_usd'].sum().reset_index()\n",
    "Biotechnology = D2_group.loc[D2_group['primary_sector'] == 'Biotechnology']\n",
    "print(round(Biotechnology.nlargest(1, 'raised_amount_usd')))"
   ]
  },
  {
   "cell_type": "code",
   "execution_count": 58,
   "metadata": {},
   "outputs": [
    {
     "name": "stdout",
     "output_type": "stream",
     "text": [
      "    primary_sector permalink  raised_amount_usd\n",
      "266     Technology    oneweb       4.000000e+09\n"
     ]
    }
   ],
   "source": [
    "##company which received highest investment from C3 for top sector\n",
    "D3_group = D3.groupby(['primary_sector', 'permalink'])['raised_amount_usd'].sum().reset_index()\n",
    "Technology = D3_group.loc[D3_group['primary_sector'] == 'Technology']\n",
    "print(round(Technology.nlargest(1, 'raised_amount_usd')))"
   ]
  },
  {
   "cell_type": "code",
   "execution_count": 47,
   "metadata": {},
   "outputs": [
    {
     "data": {
      "text/html": [
       "<div>\n",
       "<style scoped>\n",
       "    .dataframe tbody tr th:only-of-type {\n",
       "        vertical-align: middle;\n",
       "    }\n",
       "\n",
       "    .dataframe tbody tr th {\n",
       "        vertical-align: top;\n",
       "    }\n",
       "\n",
       "    .dataframe thead th {\n",
       "        text-align: right;\n",
       "    }\n",
       "</style>\n",
       "<table border=\"1\" class=\"dataframe\">\n",
       "  <thead>\n",
       "    <tr style=\"text-align: right;\">\n",
       "      <th></th>\n",
       "      <th>primary_sector</th>\n",
       "      <th>permalink</th>\n",
       "      <th>raised_amount_usd</th>\n",
       "    </tr>\n",
       "  </thead>\n",
       "  <tbody>\n",
       "    <tr>\n",
       "      <th>0</th>\n",
       "      <td>Accounting</td>\n",
       "      <td>geniac</td>\n",
       "      <td>34406898.0</td>\n",
       "    </tr>\n",
       "    <tr>\n",
       "      <th>1</th>\n",
       "      <td>Accounting</td>\n",
       "      <td>mythings</td>\n",
       "      <td>15000000.0</td>\n",
       "    </tr>\n",
       "    <tr>\n",
       "      <th>2</th>\n",
       "      <td>Advertising</td>\n",
       "      <td>icrossing</td>\n",
       "      <td>95000000.0</td>\n",
       "    </tr>\n",
       "    <tr>\n",
       "      <th>3</th>\n",
       "      <td>Advertising</td>\n",
       "      <td>livebookings</td>\n",
       "      <td>40000000.0</td>\n",
       "    </tr>\n",
       "    <tr>\n",
       "      <th>4</th>\n",
       "      <td>Advertising</td>\n",
       "      <td>mediaingenuity</td>\n",
       "      <td>228696240.0</td>\n",
       "    </tr>\n",
       "  </tbody>\n",
       "</table>\n",
       "</div>"
      ],
      "text/plain": [
       "  primary_sector       permalink  raised_amount_usd\n",
       "0     Accounting          geniac         34406898.0\n",
       "1     Accounting        mythings         15000000.0\n",
       "2    Advertising       icrossing         95000000.0\n",
       "3    Advertising    livebookings         40000000.0\n",
       "4    Advertising  mediaingenuity        228696240.0"
      ]
     },
     "execution_count": 47,
     "metadata": {},
     "output_type": "execute_result"
    }
   ],
   "source": [
    "D3_group.head()"
   ]
  },
  {
   "cell_type": "code",
   "execution_count": 48,
   "metadata": {},
   "outputs": [
    {
     "name": "stdout",
     "output_type": "stream",
     "text": [
      "     primary_sector permalink  raised_amount_usd\n",
      "5147       Software    vmware       2.948000e+09\n"
     ]
    }
   ],
   "source": [
    "##company which received highest investment from C1 for second top sector\n",
    "Software = D1_group.loc[D1_group['primary_sector'] == 'Software']\n",
    "print(round(Software.nlargest(1, 'raised_amount_usd')))"
   ]
  },
  {
   "cell_type": "code",
   "execution_count": 49,
   "metadata": {},
   "outputs": [
    {
     "name": "stdout",
     "output_type": "stream",
     "text": [
      "    primary_sector permalink  raised_amount_usd\n",
      "392       Software     wacai        520000000.0\n"
     ]
    }
   ],
   "source": [
    "##company which received highest investment from C2 for second top sector\n",
    "Software = D2_group.loc[D2_group['primary_sector'] == 'Software']\n",
    "print(round(Software.nlargest(1, 'raised_amount_usd')))"
   ]
  },
  {
   "cell_type": "code",
   "execution_count": 50,
   "metadata": {},
   "outputs": [
    {
     "name": "stdout",
     "output_type": "stream",
     "text": [
      "         primary_sector           permalink  raised_amount_usd\n",
      "270  Telecommunications  heliostowersafrica       5.040000e+09\n"
     ]
    }
   ],
   "source": [
    "##company which received highest investment from C3 for second top sector\n",
    "Telecommunication = D3_group.loc[D3_group['primary_sector'] == 'Telecommunications']\n",
    "print(round(Telecommunication.nlargest(1, 'raised_amount_usd')))"
   ]
  },
  {
   "cell_type": "code",
   "execution_count": 51,
   "metadata": {},
   "outputs": [
    {
     "data": {
      "text/html": [
       "<div>\n",
       "<style scoped>\n",
       "    .dataframe tbody tr th:only-of-type {\n",
       "        vertical-align: middle;\n",
       "    }\n",
       "\n",
       "    .dataframe tbody tr th {\n",
       "        vertical-align: top;\n",
       "    }\n",
       "\n",
       "    .dataframe thead th {\n",
       "        text-align: right;\n",
       "    }\n",
       "</style>\n",
       "<table border=\"1\" class=\"dataframe\">\n",
       "  <thead>\n",
       "    <tr style=\"text-align: right;\">\n",
       "      <th></th>\n",
       "      <th>company_permalink</th>\n",
       "      <th>funding_round_permalink</th>\n",
       "      <th>funding_round_type</th>\n",
       "      <th>funded_at</th>\n",
       "      <th>raised_amount_usd</th>\n",
       "      <th>permalink</th>\n",
       "      <th>name</th>\n",
       "      <th>category_list</th>\n",
       "      <th>status</th>\n",
       "      <th>country_code</th>\n",
       "      <th>region</th>\n",
       "      <th>main_sector</th>\n",
       "      <th>primary_sector</th>\n",
       "      <th>amount_fraction</th>\n",
       "    </tr>\n",
       "  </thead>\n",
       "  <tbody>\n",
       "    <tr>\n",
       "      <th>0</th>\n",
       "      <td>0xdata</td>\n",
       "      <td>/funding-round/3bb2ee4a2d89251a10aaa735b1180e44</td>\n",
       "      <td>venture</td>\n",
       "      <td>09-11-2015</td>\n",
       "      <td>20000000.0</td>\n",
       "      <td>0xdata</td>\n",
       "      <td>H2O.ai</td>\n",
       "      <td>Analytics</td>\n",
       "      <td>operating</td>\n",
       "      <td>USA</td>\n",
       "      <td>SF Bay Area</td>\n",
       "      <td>NaN</td>\n",
       "      <td>Analytics</td>\n",
       "      <td>0.000009</td>\n",
       "    </tr>\n",
       "    <tr>\n",
       "      <th>1</th>\n",
       "      <td>1010data</td>\n",
       "      <td>/funding-round/482fbf992b48f5c47d0080ab7ec0cb54</td>\n",
       "      <td>venture</td>\n",
       "      <td>08-03-2010</td>\n",
       "      <td>35000000.0</td>\n",
       "      <td>1010data</td>\n",
       "      <td>1010data</td>\n",
       "      <td>Software</td>\n",
       "      <td>acquired</td>\n",
       "      <td>USA</td>\n",
       "      <td>New York City</td>\n",
       "      <td>Automotive &amp; Sports</td>\n",
       "      <td>Software</td>\n",
       "      <td>0.000016</td>\n",
       "    </tr>\n",
       "    <tr>\n",
       "      <th>2</th>\n",
       "      <td>1010data</td>\n",
       "      <td>/funding-round/482fbf992b48f5c47d0080ab7ec0cb54</td>\n",
       "      <td>venture</td>\n",
       "      <td>08-03-2010</td>\n",
       "      <td>35000000.0</td>\n",
       "      <td>1010data</td>\n",
       "      <td>1010data</td>\n",
       "      <td>Software</td>\n",
       "      <td>acquired</td>\n",
       "      <td>USA</td>\n",
       "      <td>New York City</td>\n",
       "      <td>Cleantech / Semiconductors</td>\n",
       "      <td>Software</td>\n",
       "      <td>0.000016</td>\n",
       "    </tr>\n",
       "    <tr>\n",
       "      <th>3</th>\n",
       "      <td>1010data</td>\n",
       "      <td>/funding-round/482fbf992b48f5c47d0080ab7ec0cb54</td>\n",
       "      <td>venture</td>\n",
       "      <td>08-03-2010</td>\n",
       "      <td>35000000.0</td>\n",
       "      <td>1010data</td>\n",
       "      <td>1010data</td>\n",
       "      <td>Software</td>\n",
       "      <td>acquired</td>\n",
       "      <td>USA</td>\n",
       "      <td>New York City</td>\n",
       "      <td>Entertainment</td>\n",
       "      <td>Software</td>\n",
       "      <td>0.000016</td>\n",
       "    </tr>\n",
       "    <tr>\n",
       "      <th>4</th>\n",
       "      <td>1010data</td>\n",
       "      <td>/funding-round/482fbf992b48f5c47d0080ab7ec0cb54</td>\n",
       "      <td>venture</td>\n",
       "      <td>08-03-2010</td>\n",
       "      <td>35000000.0</td>\n",
       "      <td>1010data</td>\n",
       "      <td>1010data</td>\n",
       "      <td>Software</td>\n",
       "      <td>acquired</td>\n",
       "      <td>USA</td>\n",
       "      <td>New York City</td>\n",
       "      <td>Health</td>\n",
       "      <td>Software</td>\n",
       "      <td>0.000016</td>\n",
       "    </tr>\n",
       "  </tbody>\n",
       "</table>\n",
       "</div>"
      ],
      "text/plain": [
       "  company_permalink                          funding_round_permalink  \\\n",
       "0            0xdata  /funding-round/3bb2ee4a2d89251a10aaa735b1180e44   \n",
       "1          1010data  /funding-round/482fbf992b48f5c47d0080ab7ec0cb54   \n",
       "2          1010data  /funding-round/482fbf992b48f5c47d0080ab7ec0cb54   \n",
       "3          1010data  /funding-round/482fbf992b48f5c47d0080ab7ec0cb54   \n",
       "4          1010data  /funding-round/482fbf992b48f5c47d0080ab7ec0cb54   \n",
       "\n",
       "  funding_round_type   funded_at  raised_amount_usd permalink      name  \\\n",
       "0            venture  09-11-2015         20000000.0    0xdata    H2O.ai   \n",
       "1            venture  08-03-2010         35000000.0  1010data  1010data   \n",
       "2            venture  08-03-2010         35000000.0  1010data  1010data   \n",
       "3            venture  08-03-2010         35000000.0  1010data  1010data   \n",
       "4            venture  08-03-2010         35000000.0  1010data  1010data   \n",
       "\n",
       "  category_list     status country_code         region  \\\n",
       "0     Analytics  operating          USA    SF Bay Area   \n",
       "1      Software   acquired          USA  New York City   \n",
       "2      Software   acquired          USA  New York City   \n",
       "3      Software   acquired          USA  New York City   \n",
       "4      Software   acquired          USA  New York City   \n",
       "\n",
       "                  main_sector primary_sector  amount_fraction  \n",
       "0                         NaN      Analytics         0.000009  \n",
       "1         Automotive & Sports       Software         0.000016  \n",
       "2  Cleantech / Semiconductors       Software         0.000016  \n",
       "3               Entertainment       Software         0.000016  \n",
       "4                      Health       Software         0.000016  "
      ]
     },
     "execution_count": 51,
     "metadata": {},
     "output_type": "execute_result"
    }
   ],
   "source": [
    "##calculating fraction for plot1\n",
    "fundingtype_subset['amount_fraction'] = fundingtype_subset['raised_amount_usd']/fundingtype_subset['raised_amount_usd'].sum()\n",
    "fundingtype_subset.head()"
   ]
  },
  {
   "cell_type": "code",
   "execution_count": 52,
   "metadata": {},
   "outputs": [
    {
     "data": {
      "image/png": "[encoded data removed]",
      "text/plain": [
       "<Figure size 432x288 with 1 Axes>"
      ]
     },
     "metadata": {
      "needs_background": "light"
     },
     "output_type": "display_data"
    }
   ],
   "source": [
    "##plot showing the the average amount of investment in each funding type \n",
    "plot1 = round(fundingtype_subset.pivot_table(values=['raised_amount_usd'], index=['funding_round_type'], aggfunc=np.mean))\n",
    "plot1.plot(kind='bar')\n",
    "plt.show()"
   ]
  },
  {
   "cell_type": "code",
   "execution_count": 53,
   "metadata": {},
   "outputs": [
    {
     "data": {
      "image/png": "[encoded data removed]",
      "text/plain": [
       "<Figure size 432x288 with 1 Axes>"
      ]
     },
     "metadata": {
      "needs_background": "light"
     },
     "output_type": "display_data"
    }
   ],
   "source": [
    "##plot showing the fraction of total investments (globally) in venture, seed, and private equity\n",
    "plot1_fraction = fundingtype_subset.pivot_table(values=['amount_fraction'], index=['funding_round_type'], aggfunc=np.sum)\n",
    "plot1_fraction.plot(kind='bar')\n",
    "plt.show()"
   ]
  },
  {
   "cell_type": "code",
   "execution_count": 54,
   "metadata": {},
   "outputs": [
    {
     "data": {
      "image/png": "[encoded data removed]",
      "text/plain": [
       "<Figure size 432x288 with 1 Axes>"
      ]
     },
     "metadata": {
      "needs_background": "light"
     },
     "output_type": "display_data"
    }
   ],
   "source": [
    "##plot showing the top 9 countries against the total amount of investments of funding type FT\n",
    "plot1_fraction = top9.pivot_table(values=['raised_amount_usd'], index=['country_code'], aggfunc=np.sum)\n",
    "plot1_fraction_sorted = round(plot1_fraction.sort_values(['raised_amount_usd'], ascending=False))\n",
    "plot1_fraction_sorted.plot(kind='bar')\n",
    "plt.show()"
   ]
  },
  {
   "cell_type": "code",
   "execution_count": 55,
   "metadata": {},
   "outputs": [],
   "source": [
    "##plot showing the number of investments in the top 3 sectors of the top 3 countries on one chart \n",
    "D1_plot = D1.groupby(\"primary_sector\").raised_amount_usd.count().reset_index()\n",
    "D1_plot.sort_values([\"raised_amount_usd\"], axis=0,ascending=False, inplace=True)\n",
    "D1_plot = D1_plot.head(3)\n",
    "\n",
    "\n",
    "D2_plot = D2.groupby(\"primary_sector\").raised_amount_usd.count().reset_index()\n",
    "D2_plot.sort_values([\"raised_amount_usd\"], axis=0,ascending=False, inplace=True)\n",
    "D2_plot = D2_plot.head(3)\n",
    "\n",
    "\n",
    "D3_plot = D3.groupby(\"primary_sector\").raised_amount_usd.count().reset_index()\n",
    "D3_plot.sort_values([\"raised_amount_usd\"], axis=0,ascending=False, inplace=True)\n",
    "D3_plot = D3_plot.head(3)\n",
    "D12 = pd.merge(D1_plot,D2_plot,how='outer',on='primary_sector')\n",
    "D123 = pd.merge(D12,D3_plot,how='outer',on='primary_sector')\n",
    "\n"
   ]
  },
  {
   "cell_type": "code",
   "execution_count": 56,
   "metadata": {},
   "outputs": [
    {
     "data": {
      "text/html": [
       "<div>\n",
       "<style scoped>\n",
       "    .dataframe tbody tr th:only-of-type {\n",
       "        vertical-align: middle;\n",
       "    }\n",
       "\n",
       "    .dataframe tbody tr th {\n",
       "        vertical-align: top;\n",
       "    }\n",
       "\n",
       "    .dataframe thead th {\n",
       "        text-align: right;\n",
       "    }\n",
       "</style>\n",
       "<table border=\"1\" class=\"dataframe\">\n",
       "  <thead>\n",
       "    <tr style=\"text-align: right;\">\n",
       "      <th></th>\n",
       "      <th>USD</th>\n",
       "      <th>GBP</th>\n",
       "      <th>INR</th>\n",
       "    </tr>\n",
       "    <tr>\n",
       "      <th>primary_sector</th>\n",
       "      <th></th>\n",
       "      <th></th>\n",
       "      <th></th>\n",
       "    </tr>\n",
       "  </thead>\n",
       "  <tbody>\n",
       "    <tr>\n",
       "      <th>Biotechnology</th>\n",
       "      <td>9435.0</td>\n",
       "      <td>145.0</td>\n",
       "      <td>441.0</td>\n",
       "    </tr>\n",
       "    <tr>\n",
       "      <th>Software</th>\n",
       "      <td>3209.0</td>\n",
       "      <td>0.0</td>\n",
       "      <td>185.0</td>\n",
       "    </tr>\n",
       "    <tr>\n",
       "      <th>Health Care</th>\n",
       "      <td>2710.0</td>\n",
       "      <td>0.0</td>\n",
       "      <td>0.0</td>\n",
       "    </tr>\n",
       "    <tr>\n",
       "      <th>E-Commerce</th>\n",
       "      <td>0.0</td>\n",
       "      <td>567.0</td>\n",
       "      <td>0.0</td>\n",
       "    </tr>\n",
       "    <tr>\n",
       "      <th>Advertising</th>\n",
       "      <td>0.0</td>\n",
       "      <td>164.0</td>\n",
       "      <td>0.0</td>\n",
       "    </tr>\n",
       "    <tr>\n",
       "      <th>Mobile</th>\n",
       "      <td>0.0</td>\n",
       "      <td>0.0</td>\n",
       "      <td>144.0</td>\n",
       "    </tr>\n",
       "  </tbody>\n",
       "</table>\n",
       "</div>"
      ],
      "text/plain": [
       "                   USD    GBP    INR\n",
       "primary_sector                      \n",
       "Biotechnology   9435.0  145.0  441.0\n",
       "Software        3209.0    0.0  185.0\n",
       "Health Care     2710.0    0.0    0.0\n",
       "E-Commerce         0.0  567.0    0.0\n",
       "Advertising        0.0  164.0    0.0\n",
       "Mobile             0.0    0.0  144.0"
      ]
     },
     "execution_count": 56,
     "metadata": {},
     "output_type": "execute_result"
    }
   ],
   "source": [
    "D123 = D123.rename(columns={\"raised_amount_usd_x\": \"USD\", \"raised_amount_usd_y\": \"GBP\" ,\"raised_amount_usd\": \"INR\"})\n",
    "D123= D123.set_index(\"primary_sector\")\n",
    "D123.head()\n",
    "D123.fillna(0)"
   ]
  },
  {
   "cell_type": "code",
   "execution_count": 57,
   "metadata": {},
   "outputs": [
    {
     "data": {
      "text/plain": [
       "<matplotlib.axes._subplots.AxesSubplot at 0x283783a8f98>"
      ]
     },
     "execution_count": 57,
     "metadata": {},
     "output_type": "execute_result"
    },
    {
     "data": {
      "image/png": "[encoded data removed]",
      "text/plain": [
       "<Figure size 432x288 with 1 Axes>"
      ]
     },
     "metadata": {
      "needs_background": "light"
     },
     "output_type": "display_data"
    }
   ],
   "source": [
    "D123.T.plot.bar(logy=True)"
   ]
  },
  {
   "cell_type": "code",
   "execution_count": null,
   "metadata": {},
   "outputs": [],
   "source": []
  }
 ],
 "metadata": {
  "kernelspec": {
   "display_name": "Python 3",
   "language": "python",
   "name": "python3"
  },
  "language_info": {
   "codemirror_mode": {
    "name": "ipython",
    "version": 3
   },
   "file_extension": ".py",
   "mimetype": "text/x-python",
   "name": "python",
   "nbconvert_exporter": "python",
   "pygments_lexer": "ipython3",
   "version": "3.7.3"
  }
 },
 "nbformat": 4,
 "nbformat_minor": 2
}
